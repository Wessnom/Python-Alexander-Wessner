{
 "cells": [
  {
   "cell_type": "code",
   "execution_count": 3,
   "metadata": {},
   "outputs": [
    {
     "name": "stdout",
     "output_type": "stream",
     "text": [
      "Alle\n",
      "Manne\n",
      "Daniel\n",
      "Drago\n"
     ]
    }
   ],
   "source": [
    "fnames = [\"Alle\", \"Manne\", \"Daniel\", \"Drago\"]\n",
    "\n",
    "for name in fnames:\n",
    "    print(name)"
   ]
  },
  {
   "cell_type": "markdown",
   "metadata": {},
   "source": [
    "Skriv en funktion som tar in en radie och en höjd som inparametrar och som returnerar volymen av en\n",
    "cylinder.\n",
    "Volymen för en cylinder är:\n",
    "V = πr²h\n",
    "Låt användaren mata in en radie och en höjd och kör funktionen. Tänk på att ta med lämplig felhantering"
   ]
  },
  {
   "cell_type": "code",
   "execution_count": 7,
   "metadata": {},
   "outputs": [
    {
     "data": {
      "text/plain": [
       "'The volume is: 37.69911184307752'"
      ]
     },
     "execution_count": 7,
     "metadata": {},
     "output_type": "execute_result"
    }
   ],
   "source": [
    "from math import pi\n",
    "\n",
    "def volume_cylinder(height, radius):\n",
    "    volume = pi * height * radius**2\n",
    "    return f\"The volume is: {volume}\"\n",
    "    \n",
    "height = int(float(input(\"Input the height of the cylinder:\")))\n",
    "radius = int(float(input(\"Input the radius of the cylinder:\")))\n",
    "    \n",
    "volume_cylinder(height, radius)"
   ]
  },
  {
   "cell_type": "markdown",
   "metadata": {},
   "source": [
    "Skriv en funktion som tar in en bas och en höjd som inparametrar och som returnerar ytan av en\n",
    "triangel.\n",
    "Formeln för en triangels yta är:\n",
    "A = 1/2 × bas × höjd\n",
    "Låt användaren mata in en bas och en höjd och kör funktionen. Tänk på att ta med lämplig\n",
    "felhantering."
   ]
  },
  {
   "cell_type": "code",
   "execution_count": 8,
   "metadata": {},
   "outputs": [
    {
     "data": {
      "text/plain": [
       "'The volume of the triangle is: 5.0'"
      ]
     },
     "execution_count": 8,
     "metadata": {},
     "output_type": "execute_result"
    }
   ],
   "source": [
    "def volume_triangle(base, height):\n",
    "    volume = (base * height) / 2\n",
    "    return f\"The volume of the triangle is: {volume}\" \n",
    "    \n",
    "    \n",
    "base = int(float(input(\"Input the base of the triangle:\")))\n",
    "height = int(float(input(\"Input the height of the triangle:\")))\n",
    "\n",
    "volume_triangle(base, height)    "
   ]
  },
  {
   "cell_type": "markdown",
   "metadata": {},
   "source": [
    "Simulera väderförhållandena för varje dag i ett år (365 dagar). Vädertyperna är \"soligt\",\n",
    "\"molnigt\", \"regnigt\", \"snöigt\", och \"stormigt\".\n",
    "Spara resultaten i en lämplig datastruktur och beräkna sedan antalet dagar för varje vädertyp."
   ]
  },
  {
   "cell_type": "code",
   "execution_count": 28,
   "metadata": {},
   "outputs": [
    {
     "name": "stdout",
     "output_type": "stream",
     "text": [
      "soligt: 86 dagar\n",
      "stormigt: 76 dagar\n",
      "molnigt: 61 dagar\n",
      "regnigt: 78 dagar\n",
      "snöigt: 64 dagar\n"
     ]
    }
   ],
   "source": [
    "import random\n",
    "from collections import Counter\n",
    "\n",
    "weather_types = [\"soligt\", \"molnigt\", \"regnigt\", \"snöigt\", \"stormigt\"]\n",
    "\n",
    "yearly_weather = [random.choice(weather_types) for _ in range(365)]\n",
    "\n",
    "weather_count = Counter(yearly_weather)\n",
    "\n",
    "for weather, count in weather_count.items():\n",
    "    print(f\"{weather}: {count} dagar\")"
   ]
  },
  {
   "cell_type": "markdown",
   "metadata": {},
   "source": [
    "Simulera 1 000 000 tärningskast och beräkna antalet ettor, tvåor, treor, fyror, femmor och sexor.\n",
    " \n",
    "Spara resultatet i en lämplig datastruktur."
   ]
  },
  {
   "cell_type": "code",
   "execution_count": 18,
   "metadata": {},
   "outputs": [
    {
     "name": "stdout",
     "output_type": "stream",
     "text": [
      "4: 167377 gånger\n",
      "5: 166507 gånger\n",
      "3: 166202 gånger\n",
      "1: 165931 gånger\n",
      "2: 166803 gånger\n",
      "6: 167180 gånger\n"
     ]
    }
   ],
   "source": [
    "import random\n",
    "from collections import Counter\n",
    "\n",
    "\n",
    "dice_rolls = [1, 2, 3, 4, 5, 6]\n",
    "\n",
    "random_rolls = [random.choice(dice_rolls) for _ in range (1000000)]\n",
    "\n",
    "dice_outcomes = Counter(random_rolls)\n",
    "\n",
    "for rolls, count in dice_outcomes.items():\n",
    "    print(f\"{rolls}: {count} gånger\")\n"
   ]
  },
  {
   "cell_type": "markdown",
   "metadata": {},
   "source": [
    "Skapa en funktion som tar in ett heltal n som parameter och skriver ut mönstret nedan.\n",
    "Exempel när n = 5:\n",
    "\n",
    "``` python\n",
    "{\n",
    "x x x x x\n",
    "x o x o x\n",
    "x x x x x\n",
    "x o x o x\n",
    "x x x x x\n",
    "}\n",
    "```"
   ]
  },
  {
   "cell_type": "code",
   "execution_count": 29,
   "metadata": {},
   "outputs": [
    {
     "name": "stdout",
     "output_type": "stream",
     "text": [
      "x x x x x x x \n",
      "x O x O x O x \n",
      "x x x x x x x \n",
      "x O x O x O x \n",
      "x x x x x x x \n",
      "x O x O x O x \n",
      "x x x x x x x \n"
     ]
    }
   ],
   "source": [
    "def pattern(n):\n",
    "    for y in range(n):\n",
    "        for x in range(n):\n",
    "            print('O' if y % 2 == 1 and x % 2 == 1 else 'x', end=' ')\n",
    "        print()\n",
    "\n",
    "\n",
    "\n",
    "pattern(7)"
   ]
  },
  {
   "cell_type": "code",
   "execution_count": 30,
   "metadata": {},
   "outputs": [
    {
     "ename": "SyntaxError",
     "evalue": "expected 'else' after 'if' expression (2310902766.py, line 4)",
     "output_type": "error",
     "traceback": [
      "\u001b[1;36m  Cell \u001b[1;32mIn[30], line 4\u001b[1;36m\u001b[0m\n\u001b[1;33m    print('X ' if x % 2 == 0)\u001b[0m\n\u001b[1;37m          ^\u001b[0m\n\u001b[1;31mSyntaxError\u001b[0m\u001b[1;31m:\u001b[0m expected 'else' after 'if' expression\n"
     ]
    }
   ],
   "source": [
    "def pattern2(n):\n",
    "    for y in range(n):\n",
    "        for x in range(n):\n",
    "            print('X ' if x % 2 == 0)\n",
    "        else:\n",
    "            print()"
   ]
  }
 ],
 "metadata": {
  "kernelspec": {
   "display_name": "Python-Alexander-Wessner-ZFN3EVPi",
   "language": "python",
   "name": "python3"
  },
  "language_info": {
   "codemirror_mode": {
    "name": "ipython",
    "version": 3
   },
   "file_extension": ".py",
   "mimetype": "text/x-python",
   "name": "python",
   "nbconvert_exporter": "python",
   "pygments_lexer": "ipython3",
   "version": "3.11.5"
  }
 },
 "nbformat": 4,
 "nbformat_minor": 2
}
