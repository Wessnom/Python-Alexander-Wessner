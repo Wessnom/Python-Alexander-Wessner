{
 "cells": [
  {
   "cell_type": "code",
   "execution_count": 3,
   "metadata": {},
   "outputs": [
    {
     "name": "stdout",
     "output_type": "stream",
     "text": [
      "Alle\n",
      "Manne\n",
      "Daniel\n",
      "Drago\n"
     ]
    }
   ],
   "source": [
    "fnames = [\"Alle\", \"Manne\", \"Daniel\", \"Drago\"]\n",
    "\n",
    "for name in fnames:\n",
    "    print(name)"
   ]
  },
  {
   "cell_type": "markdown",
   "metadata": {},
   "source": [
    "Skriv en funktion som tar in en radie och en höjd som inparametrar och som returnerar volymen av en\n",
    "cylinder.\n",
    "Volymen för en cylinder är:\n",
    "V = πr²h\n",
    "Låt användaren mata in en radie och en höjd och kör funktionen. Tänk på att ta med lämplig felhantering"
   ]
  },
  {
   "cell_type": "code",
   "execution_count": 7,
   "metadata": {},
   "outputs": [
    {
     "data": {
      "text/plain": [
       "'The volume is: 37.69911184307752'"
      ]
     },
     "execution_count": 7,
     "metadata": {},
     "output_type": "execute_result"
    }
   ],
   "source": [
    "from math import pi\n",
    "\n",
    "def volume_cylinder(height, radius):\n",
    "    volume = pi * height * radius**2\n",
    "    return f\"The volume is: {volume}\"\n",
    "    \n",
    "height = int(float(input(\"Input the height of the cylinder:\")))\n",
    "radius = int(float(input(\"Input the radius of the cylinder:\")))\n",
    "    \n",
    "volume_cylinder(height, radius)"
   ]
  },
  {
   "cell_type": "markdown",
   "metadata": {},
   "source": [
    "Skriv en funktion som tar in en bas och en höjd som inparametrar och som returnerar ytan av en\n",
    "triangel.\n",
    "Formeln för en triangels yta är:\n",
    "A = 1/2 × bas × höjd\n",
    "Låt användaren mata in en bas och en höjd och kör funktionen. Tänk på att ta med lämplig\n",
    "felhantering."
   ]
  },
  {
   "cell_type": "code",
   "execution_count": 8,
   "metadata": {},
   "outputs": [
    {
     "data": {
      "text/plain": [
       "'The volume of the triangle is: 5.0'"
      ]
     },
     "execution_count": 8,
     "metadata": {},
     "output_type": "execute_result"
    }
   ],
   "source": [
    "def volume_triangle(base, height):\n",
    "    volume = (base * height) / 2\n",
    "    return f\"The volume of the triangle is: {volume}\" \n",
    "    \n",
    "    \n",
    "base = int(float(input(\"Input the base of the triangle:\")))\n",
    "height = int(float(input(\"Input the height of the triangle:\")))\n",
    "\n",
    "volume_triangle(base, height)    "
   ]
  },
  {
   "cell_type": "markdown",
   "metadata": {},
   "source": [
    "Simulera väderförhållandena för varje dag i ett år (365 dagar). Vädertyperna är \"soligt\",\n",
    "\"molnigt\", \"regnigt\", \"snöigt\", och \"stormigt\".\n",
    "Spara resultaten i en lämplig datastruktur och beräkna sedan antalet dagar för varje vädertyp."
   ]
  },
  {
   "cell_type": "code",
   "execution_count": 28,
   "metadata": {},
   "outputs": [
    {
     "name": "stdout",
     "output_type": "stream",
     "text": [
      "soligt: 86 dagar\n",
      "stormigt: 76 dagar\n",
      "molnigt: 61 dagar\n",
      "regnigt: 78 dagar\n",
      "snöigt: 64 dagar\n"
     ]
    }
   ],
   "source": [
    "import random\n",
    "from collections import Counter\n",
    "\n",
    "weather_types = [\"soligt\", \"molnigt\", \"regnigt\", \"snöigt\", \"stormigt\"]\n",
    "\n",
    "yearly_weather = [random.choice(weather_types) for _ in range(365)]\n",
    "\n",
    "weather_count = Counter(yearly_weather)\n",
    "\n",
    "for weather, count in weather_count.items():\n",
    "    print(f\"{weather}: {count} dagar\")"
   ]
  }
 ],
 "metadata": {
  "kernelspec": {
   "display_name": "Python-Alexander-Wessner-ZFN3EVPi",
   "language": "python",
   "name": "python3"
  },
  "language_info": {
   "codemirror_mode": {
    "name": "ipython",
    "version": 3
   },
   "file_extension": ".py",
   "mimetype": "text/x-python",
   "name": "python",
   "nbconvert_exporter": "python",
   "pygments_lexer": "ipython3",
   "version": "3.11.5"
  }
 },
 "nbformat": 4,
 "nbformat_minor": 2
}
