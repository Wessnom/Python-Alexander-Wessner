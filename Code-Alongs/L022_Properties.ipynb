{
 "cells": [
  {
   "cell_type": "markdown",
   "metadata": {},
   "source": [
    "# Properties (sing. Property, sv. Egenskap)\n",
    "A property is a python construction (or OOP concept) that works similar to an attribute, with the difference being that an attribute stores (and reads) the value directly to memory, while a property uses **\"getter\"** and **\"setter\"** methods to change the values of the property.\n",
    "\n",
    "From the \"outside\" (of the class definition) when a property of an object is set, the objects internal setter method will be called to handle the operation. This method is marked in the class definition by a decorator called {name}.setter (where \"name is the name of the property)\n",
    "\n",
    "When the property is read (from the  \"outside\"), the objects internal getter method will be called to return a value. The getter method is marked in the class definition by a decorator called @property"
   ]
  },
  {
   "cell_type": "code",
   "execution_count": null,
   "metadata": {},
   "outputs": [],
   "source": []
  },
  {
   "cell_type": "code",
   "execution_count": null,
   "metadata": {},
   "outputs": [],
   "source": []
  }
 ],
 "metadata": {
  "language_info": {
   "name": "python"
  },
  "orig_nbformat": 4
 },
 "nbformat": 4,
 "nbformat_minor": 2
}
