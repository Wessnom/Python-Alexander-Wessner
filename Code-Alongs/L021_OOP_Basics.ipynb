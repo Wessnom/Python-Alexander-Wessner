{
 "cells": [
  {
   "cell_type": "markdown",
   "metadata": {},
   "source": [
    "# Object Oriented Programming (OOP) \n",
    "- A \"class\" is a blueprint that can be used to create objects\n",
    "- An \"instance\" is the actual object containing the data and methods"
   ]
  },
  {
   "cell_type": "code",
   "execution_count": 1,
   "metadata": {},
   "outputs": [
    {
     "name": "stdout",
     "output_type": "stream",
     "text": [
      "Alexander Wessner\n",
      "Hanna Sampson\n"
     ]
    }
   ],
   "source": [
    "student_a = {\"Firstname\": \"Alexander\", \"Lastname\": \"Wessner\", \"Age\": 29, \"Grade\": 4.5}\n",
    "student_b = {\"Firstname\": \"Hanna\", \"Lastname\": \"Sampson\", \"Age\": 28, \"Grade\": 4.9}\n",
    "\n",
    "students = [student_a, student_b]\n",
    "\n",
    "def set_grade(student, grade):\n",
    "    student[\"Grade\"] = grade\n",
    "\n",
    "def get_name(student):\n",
    "    return f'{student[\"Firstname\"]} {student[\"Lastname\"]}'\n",
    "\n",
    "def get_grade(student, grade):\n",
    "    for student in students:\n",
    "        return f'{student}{[\"Grade\"]}'\n",
    "\n",
    "for student in students:\n",
    "    set_grade(student, 3.0)\n",
    "    print(get_name(student))\n",
    "\n",
    "pass"
   ]
  },
  {
   "cell_type": "code",
   "execution_count": 8,
   "metadata": {},
   "outputs": [],
   "source": [
    "class Student:\n",
    "    def __init__(self, name, grade):\n",
    "        self.grade = grade\n",
    "        self.name = name\n",
    "\n",
    "    def set_grade(self, grade):\n",
    "        self.grade = grade\n",
    "        "
   ]
  },
  {
   "cell_type": "code",
   "execution_count": 10,
   "metadata": {},
   "outputs": [
    {
     "name": "stdout",
     "output_type": "stream",
     "text": [
      "{'grade': 4.5, 'name': 'Alexander'}\n",
      "{'grade': 4.9, 'name': 'Hanna'}\n",
      "\n",
      "{'grade': 5.0, 'name': 'Alexander', 'age': 42}\n",
      "{'grade': 5.1, 'name': 'Hanna', 'age': 29}\n"
     ]
    }
   ],
   "source": [
    "student_a = Student(\"Alexander\", 4.5)\n",
    "student_b = Student(\"Hanna\", 4.9)\n",
    "\n",
    "print(student_a.__dict__)\n",
    "print(student_b.__dict__)\n",
    "\n",
    "student_a.set_grade(5.0)\n",
    "student_b.set_grade(5.1)\n",
    "student_a.age = 42\n",
    "student_b.age = 29\n",
    "print()\n",
    "print(student_a.__dict__)\n",
    "print(student_b.__dict__)"
   ]
  },
  {
   "cell_type": "code",
   "execution_count": 11,
   "metadata": {},
   "outputs": [
    {
     "ename": "TypeError",
     "evalue": "Student.__init__() missing 2 required positional arguments: 'name' and 'grade'",
     "output_type": "error",
     "traceback": [
      "\u001b[1;31m---------------------------------------------------------------------------\u001b[0m",
      "\u001b[1;31mTypeError\u001b[0m                                 Traceback (most recent call last)",
      "\u001b[1;32mc:\\Users\\Alexander\\Documents\\GitHub\\Python-Alexander-Wessner\\Code-Alongs\\L021_OOP_Basics.ipynb Cell 5\u001b[0m line \u001b[0;36m1\n\u001b[1;32m----> <a href='vscode-notebook-cell:/c%3A/Users/Alexander/Documents/GitHub/Python-Alexander-Wessner/Code-Alongs/L021_OOP_Basics.ipynb#W4sZmlsZQ%3D%3D?line=0'>1</a>\u001b[0m student_a \u001b[39m=\u001b[39m Student()\n\u001b[0;32m      <a href='vscode-notebook-cell:/c%3A/Users/Alexander/Documents/GitHub/Python-Alexander-Wessner/Code-Alongs/L021_OOP_Basics.ipynb#W4sZmlsZQ%3D%3D?line=1'>2</a>\u001b[0m student_b \u001b[39m=\u001b[39m Student()\n\u001b[0;32m      <a href='vscode-notebook-cell:/c%3A/Users/Alexander/Documents/GitHub/Python-Alexander-Wessner/Code-Alongs/L021_OOP_Basics.ipynb#W4sZmlsZQ%3D%3D?line=3'>4</a>\u001b[0m student_a\u001b[39m.\u001b[39mname \u001b[39m=\u001b[39m \u001b[39m\"\u001b[39m\u001b[39mAlexander\u001b[39m\u001b[39m\"\u001b[39m\n",
      "\u001b[1;31mTypeError\u001b[0m: Student.__init__() missing 2 required positional arguments: 'name' and 'grade'"
     ]
    }
   ],
   "source": [
    "student_a = Student()\n",
    "student_b = Student()\n",
    "\n",
    "student_a.name = \"Alexander\"\n",
    "student_a.age = 200\n",
    "student_a.dict = {\"Firstname\": \"Alexander\", \"Lastname\": \"Wessner\", \"Age\": 29, \"Grade\": 4.5}\n",
    "\n",
    "student_b.name = \"Hanna\"\n",
    "\n",
    "print(student_a.name)\n",
    "print(student_b.name)\n",
    "print(student_a.__dict__)\n"
   ]
  },
  {
   "cell_type": "code",
   "execution_count": 42,
   "metadata": {},
   "outputs": [],
   "source": [
    "class Cat:\n",
    "    def __init__(self, name, age):\n",
    "        self.name = name\n",
    "        self.age = age\n",
    "\n",
    "    def greet(self, other = None):\n",
    "        if other is None:\n",
    "            print(f\"Hello, I'm {self.name}, and I'm {self.age} years old.\")\n",
    "        else:\n",
    "            if other.age < self.age:\n",
    "                print(f\"Hi {other.name}, my name is {self.name}, and I'm {self.age-other.age} year older than you.\")\n",
    "            elif other.age == self.age:\n",
    "                print(f\"Hi {other.name}, my name is {self.name}, and we are both {self.age} years old.\")\n",
    "            else:\n",
    "                print(f\"Hi {other.name}, my name is {self.name}, and I'm {other.age-self.age} year younger than you.\")\n",
    "            "
   ]
  },
  {
   "cell_type": "code",
   "execution_count": 46,
   "metadata": {},
   "outputs": [
    {
     "ename": "AttributeError",
     "evalue": "'Cat' object has no attribute 'print_best_friend'",
     "output_type": "error",
     "traceback": [
      "\u001b[1;31m---------------------------------------------------------------------------\u001b[0m",
      "\u001b[1;31mAttributeError\u001b[0m                            Traceback (most recent call last)",
      "\u001b[1;32mc:\\Users\\Alexander\\Documents\\GitHub\\Python-Alexander-Wessner\\Code-Alongs\\L021_OOP_Basics.ipynb Cell 7\u001b[0m line \u001b[0;36m1\n\u001b[0;32m      <a href='vscode-notebook-cell:/c%3A/Users/Alexander/Documents/GitHub/Python-Alexander-Wessner/Code-Alongs/L021_OOP_Basics.ipynb#W6sZmlsZQ%3D%3D?line=8'>9</a>\u001b[0m cats \u001b[39m=\u001b[39m [my_cat, my_other_cat, my_third_cat, my_fourth_cat]\n\u001b[0;32m     <a href='vscode-notebook-cell:/c%3A/Users/Alexander/Documents/GitHub/Python-Alexander-Wessner/Code-Alongs/L021_OOP_Basics.ipynb#W6sZmlsZQ%3D%3D?line=10'>11</a>\u001b[0m \u001b[39mfor\u001b[39;00m cat \u001b[39min\u001b[39;00m cats:\n\u001b[1;32m---> <a href='vscode-notebook-cell:/c%3A/Users/Alexander/Documents/GitHub/Python-Alexander-Wessner/Code-Alongs/L021_OOP_Basics.ipynb#W6sZmlsZQ%3D%3D?line=11'>12</a>\u001b[0m     cat\u001b[39m.\u001b[39;49mprint_best_friend()\n\u001b[0;32m     <a href='vscode-notebook-cell:/c%3A/Users/Alexander/Documents/GitHub/Python-Alexander-Wessner/Code-Alongs/L021_OOP_Basics.ipynb#W6sZmlsZQ%3D%3D?line=14'>15</a>\u001b[0m my_cat\u001b[39m.\u001b[39mgreet()\n\u001b[0;32m     <a href='vscode-notebook-cell:/c%3A/Users/Alexander/Documents/GitHub/Python-Alexander-Wessner/Code-Alongs/L021_OOP_Basics.ipynb#W6sZmlsZQ%3D%3D?line=15'>16</a>\u001b[0m my_other_cat\u001b[39m.\u001b[39mgreet()\n",
      "\u001b[1;31mAttributeError\u001b[0m: 'Cat' object has no attribute 'print_best_friend'"
     ]
    }
   ],
   "source": [
    "my_cat = Cat(\"Misse\", 3)\n",
    "my_other_cat = Cat(\"Kisse\", 2)\n",
    "my_third_cat = Cat(\"Mjau\", 5)\n",
    "my_fourth_cat = Cat(\"Jens\", 3)\n",
    "\n",
    "my_cat.best_friend = my_third_cat\n",
    "my_third_cat.best_friend = my_cat\n",
    "\n",
    "cats = [my_cat, my_other_cat, my_third_cat, my_fourth_cat]\n",
    "\n",
    "for cat in cats:\n",
    "    cat.print_best_friend()\n",
    "\n",
    "# My name is Misse, and my best friend is Mjau.\n",
    "\n",
    "\n",
    "my_cat.greet()\n",
    "my_other_cat.greet()\n",
    "# \"Hello, I'm Misse, and I'm 3 years old.\"\n",
    "\n",
    "my_cat.greet(my_other_cat)\n",
    "my_cat.greet(my_third_cat)\n",
    "my_cat.greet(my_fourth_cat)\n",
    "# Hi Kisse, my name is Misse, and I'm 1 year older than you\n",
    "\n"
   ]
  },
  {
   "cell_type": "code",
   "execution_count": 35,
   "metadata": {},
   "outputs": [
    {
     "name": "stdout",
     "output_type": "stream",
     "text": [
      "Hello Alex\n",
      "Hello\n"
     ]
    }
   ],
   "source": [
    "def greet(name=None):\n",
    "    if name is None:\n",
    "        print(f\"Hello\")\n",
    "    else:\n",
    "        print(f\"Hello {name}\")\n",
    "\n",
    "greet(\"Alex\")\n",
    "greet()"
   ]
  }
 ],
 "metadata": {
  "kernelspec": {
   "display_name": ".venv",
   "language": "python",
   "name": "python3"
  },
  "language_info": {
   "codemirror_mode": {
    "name": "ipython",
    "version": 3
   },
   "file_extension": ".py",
   "mimetype": "text/x-python",
   "name": "python",
   "nbconvert_exporter": "python",
   "pygments_lexer": "ipython3",
   "version": "3.11.5"
  },
  "orig_nbformat": 4
 },
 "nbformat": 4,
 "nbformat_minor": 2
}
