{
 "cells": [
  {
   "cell_type": "markdown",
   "metadata": {},
   "source": [
    "# Load and save data to files\n",
    "\n",
    "We can categorize files into 2 main categories, text files and binary files.\n",
    "- Text files stores text / character in a human readable format.\n",
    "- Binary files stores byte data (1's and 0's) that needs evaluation from a computer.\n",
    "\n",
    "## Common text based files to store data\n",
    "- **.txt** Plain english (or other language) text.\n",
    "- **.csv** **C**omma **S**eparated **V**alues.\n",
    "- **.JSON** **J**ava**S**cript **O**bject **N**otation\n",
    "\n",
    "## File names and file paths\n",
    "\n",
    "A file name usually has two parts, the name and the file extension, separated with a dot (name.extension)\n",
    "\n",
    "e.g. hello.txt data.json myimage.jpg\n",
    "\n",
    "Paths can be expressed as either relative or absolute: \n",
    "- **Absolute:** Full path to access a file or folder. Ex. C:\\users\\alexander\\desktop\\myfile.txt\n",
    "- **Relative:** Relative from the current active folder: data\\data.json  \n",
    "\n",
    "## File modes\n",
    "It's possible to open a file in python in different modes:\n",
    "- ***'r':*** for reading\n",
    "- ***'w':*** for writing (overwrites)\n",
    "- **'a':** for appending"
   ]
  },
  {
   "cell_type": "markdown",
   "metadata": {},
   "source": [
    "## Open file for reading"
   ]
  },
  {
   "cell_type": "code",
   "execution_count": 1,
   "metadata": {},
   "outputs": [
    {
     "name": "stdout",
     "output_type": "stream",
     "text": [
      "ABC123\n",
      "AC123\n",
      "!\"#¤!\"¤\n",
      "This is another line\n",
      "Row row row your boat!\n",
      "funkar det nu?\n",
      "\n"
     ]
    }
   ],
   "source": [
    "file = open(\"..\\data\\hello.txt\", \"r\")\n",
    "\n",
    "content = file.read()\n",
    "\n",
    "print(content)\n",
    "file.close()"
   ]
  },
  {
   "cell_type": "markdown",
   "metadata": {},
   "source": [
    "## Open with context management"
   ]
  },
  {
   "cell_type": "code",
   "execution_count": 6,
   "metadata": {},
   "outputs": [
    {
     "name": "stdout",
     "output_type": "stream",
     "text": [
      "ABC123\n",
      "AC123\n",
      "!\"#¤!\"¤\n",
      "This is another line\n",
      "Row row row your boat!\n",
      "funkar det nu?\n",
      "Lägg till\n",
      "append this\n",
      "\n"
     ]
    }
   ],
   "source": [
    "with open(\"..\\data\\hello.txt\") as file:\n",
    "    content = file.read()\n",
    "    print(content)\n",
    "    \n",
    "    "
   ]
  },
  {
   "cell_type": "markdown",
   "metadata": {},
   "source": [
    "## Open file for writing"
   ]
  },
  {
   "cell_type": "code",
   "execution_count": 5,
   "metadata": {},
   "outputs": [],
   "source": [
    "file = open(\"..\\data\\hello.txt\", \"a\")\n",
    "\n",
    "new_content = input(\"Enter text: \")\n",
    "\n",
    "file.write(new_content + '\\n')\n",
    "\n",
    "file.close()\n"
   ]
  },
  {
   "cell_type": "code",
   "execution_count": 4,
   "metadata": {},
   "outputs": [],
   "source": [
    "new_content = input(\"Enter text: \")\n",
    "\n",
    "with open(\"..\\data\\hello.txt\", \"a\") as file:\n",
    "    file.write(new_content + '\\n')"
   ]
  },
  {
   "cell_type": "markdown",
   "metadata": {},
   "source": [
    "## Mini-Uppgift\n",
    "Skapa ett program som har en tom lista. När programmet körs får användaren mata in namn (input) i en loop tills användaren matar in en tom rad. När den är klar så skrivs alla namn ut på skärmen samt sparas till en fil (där ska ett namn vara på varje rad). Nästa gång programmet startas så läser den in de befintliga namnen."
   ]
  },
  {
   "cell_type": "code",
   "execution_count": null,
   "metadata": {},
   "outputs": [],
   "source": [
    "list_of_names = []\n",
    "\n",
    "new_names = input(\"Enter a name: \")\n"
   ]
  },
  {
   "cell_type": "code",
   "execution_count": 21,
   "metadata": {},
   "outputs": [
    {
     "name": "stdout",
     "output_type": "stream",
     "text": [
      "['Alex', 'adam', 'Thiggo', 'Viggo', 'Ballex', 'Allex', 'Ballex', 'Snallex', 'Viggex', 'Funkar']\n",
      "Names are saved!\n"
     ]
    }
   ],
   "source": [
    "with open(\"..\\\\data\\\\namelist.txt\", \"r\") as file:\n",
    "    names = [name.strip(\"\\n\") for name in file.readlines()]\n",
    "    \n",
    "\n",
    "while True:\n",
    "    name = input(\"Enter name: \")\n",
    "    if not name: break\n",
    "    names.append(name)\n",
    "    \n",
    "print(names)\n",
    "\n",
    "#for name in names:\n",
    " #   print(name)\n",
    "    \n",
    "with open(\"..\\\\data\\\\namelist.txt\", \"w\") as file:\n",
    "    file.writelines([name + '\\n' for name in names])\n",
    "        \n",
    "print(\"Names are saved!\")"
   ]
  },
  {
   "cell_type": "markdown",
   "metadata": {},
   "source": [
    "## Write .CSV file"
   ]
  },
  {
   "cell_type": "code",
   "execution_count": 25,
   "metadata": {},
   "outputs": [
    {
     "name": "stdout",
     "output_type": "stream",
     "text": [
      "[{'name': 'Alexander', 'Class': 'AI23', 'Email': 'Alexander@gmail.com'}, {'name': 'Thiggo', 'Class': 'AI23', 'Email': 'Thiggo@gmail.com'}, {'name': 'Ballex', 'Class': 'AI23', 'Email': 'Ballex@gmail.com'}]\n"
     ]
    }
   ],
   "source": [
    "students = [\n",
    "    {\"name\": \"Alexander\", \"class\": \"AI23\", \"email\": \"Alexander@gmail.com\"},\n",
    "    {\"name\": \"Thiggo\", \"class\": \"AI23\", \"email\": \"Thiggo@gmail.com\"},\n",
    "    {\"name\": \"Ballex\", \"class\": \"AI23\", \"email\": \"Ballex@gmail.com\"},\n",
    "]\n",
    "\n",
    "print(students)\n",
    "\n",
    "with open(\"..\\\\data\\\\students.csv\", \"w\") as file:\n",
    "    for student in students:\n",
    "        file.write(f\"{student['name']}, {student['class']}, {student['email']}\\n\")"
   ]
  },
  {
   "cell_type": "markdown",
   "metadata": {},
   "source": [
    "## Using csv package"
   ]
  },
  {
   "cell_type": "code",
   "execution_count": 29,
   "metadata": {},
   "outputs": [
    {
     "name": "stdout",
     "output_type": "stream",
     "text": [
      "[{'name': 'Alexander', 'class': 'AI23', 'email': 'Alexander@gmail.com'}, {'name': 'Thiggo', 'class': 'AI23', 'email': 'Thiggo@gmail.com'}, {'name': 'Ballex', 'class': 'AI23', 'email': 'Ballex@gmail.com'}]\n"
     ]
    }
   ],
   "source": [
    "import csv\n",
    "\n",
    "students = []\n",
    "\n",
    "with open(\"..\\\\data\\\\students.csv\") as file: # , \"r\" by default if nothing else \n",
    "    reader = csv.DictReader(file)\n",
    "    \n",
    "    for row in reader:\n",
    "        # print(row[\"name\"])\n",
    "        students.append({\"name\": row[\"name\"], \"class\": row[\"class\"], \"email\": row[\"email\"]})\n",
    "        \n",
    "print(students)"
   ]
  },
  {
   "cell_type": "markdown",
   "metadata": {},
   "source": [
    "## Json serialization and deserialization\n"
   ]
  },
  {
   "cell_type": "code",
   "execution_count": 7,
   "metadata": {},
   "outputs": [],
   "source": [
    "import json\n",
    "\n",
    "teacher = {\n",
    "    \"firstname\": \"Alexander\",\n",
    "    \"lastname\": \"Wessner\",\n",
    "    \"age\": 29,\n",
    "    \"languages\": [\"Python\", \"C#\", \"Javascript\"],\n",
    "    \"contactinfo\": {\n",
    "        \"phone\": \"0723868453\",\n",
    "        \"email\": [\n",
    "            \"wessneralexander@gmail.com\",\n",
    "            \"wessneralexander@hotmail.com\",\n",
    "        ]  \n",
    "    }\n",
    "}\n",
    "\n",
    "serialized_data = json.dumps(teacher, indent=4) # json.dumps serializerar\n",
    "\n",
    "# print(serialized_data)\n",
    "\n",
    "\n",
    "with open(\"..\\\\data\\\\teacher.json\", \"w\") as file:\n",
    "    file.write(serialized_data)\n",
    "    \n",
    "    "
   ]
  },
  {
   "cell_type": "code",
   "execution_count": 12,
   "metadata": {},
   "outputs": [
    {
     "name": "stdout",
     "output_type": "stream",
     "text": [
      "{'firstname': 'Alexander', 'lastname': 'Wessner', 'age': 29, 'languages': ['Python', 'C#', 'Javascript'], 'contactinfo': {'phone': '0723868453', 'email': ['wessneralexander@gmail.com', 'wessneralexander@hotmail.com']}}\n"
     ]
    },
    {
     "data": {
      "text/plain": [
       "dict"
      ]
     },
     "execution_count": 12,
     "metadata": {},
     "output_type": "execute_result"
    }
   ],
   "source": [
    "with open(\"..\\\\data\\\\teacher.json\", \"r\") as file:\n",
    "    data = file.read()\n",
    "    \n",
    "teacher = json.loads(data) # json.loads deserializerar\n",
    "\n",
    "print(teacher)\n"
   ]
  },
  {
   "cell_type": "code",
   "execution_count": 20,
   "metadata": {},
   "outputs": [
    {
     "name": "stdout",
     "output_type": "stream",
     "text": [
      "alfa-romero\n",
      "audi\n",
      "bmw\n",
      "chevrolet\n",
      "dodge\n",
      "honda\n",
      "isuzu\n",
      "jaguar\n",
      "mazda\n",
      "mercedes-benz\n",
      "mercury\n",
      "mitsubishi\n",
      "nissan\n",
      "peugot\n",
      "plymouth\n",
      "porsche\n",
      "renault\n",
      "saab\n",
      "subaru\n",
      "toyota\n",
      "volkswagen\n",
      "volvo\n"
     ]
    }
   ],
   "source": [
    "with open(\"..\\\\data\\\\autos_json.json\", \"r\") as file:\n",
    "    data = file.read()\n",
    "    \n",
    "cars = json.loads(data) # json.loads deserializerar\n",
    "\n",
    "# print(cars[0])\n",
    "\n",
    "# for key, value in cars[0].items():\n",
    "#    print(f\"{key} = {value}\")\n",
    "\n",
    "carbrands = set([car[\"make\"] for car in cars])\n",
    "\n",
    "for brand in sorted(carbrands):\n",
    "    print(brand)"
   ]
  }
 ],
 "metadata": {
  "kernelspec": {
   "display_name": "Python-Alexander-Wessner-ZFN3EVPi",
   "language": "python",
   "name": "python3"
  },
  "language_info": {
   "codemirror_mode": {
    "name": "ipython",
    "version": 3
   },
   "file_extension": ".py",
   "mimetype": "text/x-python",
   "name": "python",
   "nbconvert_exporter": "python",
   "pygments_lexer": "ipython3",
   "version": "3.11.5"
  },
  "orig_nbformat": 4
 },
 "nbformat": 4,
 "nbformat_minor": 2
}
