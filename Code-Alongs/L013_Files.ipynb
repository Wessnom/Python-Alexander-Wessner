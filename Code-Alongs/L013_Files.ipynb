{
 "cells": [
  {
   "cell_type": "markdown",
   "metadata": {},
   "source": [
    "# Load and save data to files\n",
    "\n",
    "We can categorize files into 2 main categories, text files and binary files.\n",
    "- Text files stores text / character in a human readable format.\n",
    "- Binary files stores byte data (1's and 0's) that needs evaluation from a computer.\n",
    "\n",
    "## Common text based files to store data\n",
    "- **.txt** Plain english (or other language) text.\n",
    "- .csv\n",
    "- .json\n",
    "\n",
    "## File names and file paths\n",
    "\n",
    "A file name usually has two parts, the name and the file extension, separated with a dot (name.extension)\n",
    "\n",
    "e.g. hello.txt data.json myimage.jpg\n",
    "\n",
    "Paths can be expressed as either relative or absolute: \n",
    "- **Absolute:** Full path to access a file or folder. Ex. C:\\users\\alexander\\desktop\\myfile.txt\n",
    "- **Relative:** Relative from the current active folder: data\\data.json  \n",
    "\n",
    "## File modes\n",
    "- It's possible to open a file in python in different modes:\n",
    "- ***'r':*** for reading\n",
    "- ***'w':*** \n",
    "- **'a':** "
   ]
  },
  {
   "cell_type": "markdown",
   "metadata": {},
   "source": [
    "## Open file for reading"
   ]
  },
  {
   "cell_type": "code",
   "execution_count": 19,
   "metadata": {},
   "outputs": [
    {
     "name": "stdout",
     "output_type": "stream",
     "text": [
      "ABC123\n",
      "AC123\n",
      "!\"#¤!\"¤\n",
      "This is another line\n",
      "Row row row your boat!\n",
      "\n"
     ]
    }
   ],
   "source": [
    "file = open(\"..\\..\\data\\hello.txt\", \"r\")\n",
    "\n",
    "content = file.read()\n",
    "\n",
    "print(content)\n",
    "file.close()"
   ]
  },
  {
   "cell_type": "markdown",
   "metadata": {},
   "source": [
    "## Open with context management"
   ]
  },
  {
   "cell_type": "code",
   "execution_count": 23,
   "metadata": {},
   "outputs": [
    {
     "name": "stdout",
     "output_type": "stream",
     "text": [
      "ABC123\n",
      "AC123\n",
      "!\"#¤!\"¤\n",
      "This is another line\n",
      "Row row row your boat!\n",
      "funkar det nu?\n",
      "\n"
     ]
    }
   ],
   "source": [
    "with open(\"..\\..\\data\\hello.txt\") as file:\n",
    "    content = file.read()\n",
    "    print(content)\n",
    "    \n",
    "    "
   ]
  },
  {
   "cell_type": "markdown",
   "metadata": {},
   "source": [
    "## Open file for writing"
   ]
  },
  {
   "cell_type": "code",
   "execution_count": 18,
   "metadata": {},
   "outputs": [],
   "source": [
    "file = open(\"..\\..\\data\\hello.txt\", \"a\")\n",
    "\n",
    "new_content = input(\"Enter text: \")\n",
    "\n",
    "file.write(new_content + '\\n')\n",
    "\n",
    "file.close()\n"
   ]
  },
  {
   "cell_type": "code",
   "execution_count": 22,
   "metadata": {},
   "outputs": [],
   "source": [
    "new_content = input(\"Enter text: \")\n",
    "\n",
    "with open(\"..\\..\\data\\hello.txt\", \"a\") as file:\n",
    "    file.write(new_content + '\\n')"
   ]
  },
  {
   "cell_type": "markdown",
   "metadata": {},
   "source": [
    "## Mini-Uppgift\n",
    "Skapa ett program som har en tom lista. När programmet körs får användaren mata in namn (input) i en loop tills användaren matar in en tom rad. När den är klar så skrivs alla namn ut på skärmen samt sparas till en fil (där ska ett namn vara på varje rad). Nästa gång programmet startas så läser den in de befintliga namnen."
   ]
  },
  {
   "cell_type": "code",
   "execution_count": null,
   "metadata": {},
   "outputs": [],
   "source": [
    "list_of_names = []\n",
    "\n",
    "new_names = input(\"Enter a name: \")\n"
   ]
  }
 ],
 "metadata": {
  "kernelspec": {
   "display_name": "Python-Alexander-Wessner-ZFN3EVPi",
   "language": "python",
   "name": "python3"
  },
  "language_info": {
   "codemirror_mode": {
    "name": "ipython",
    "version": 3
   },
   "file_extension": ".py",
   "mimetype": "text/x-python",
   "name": "python",
   "nbconvert_exporter": "python",
   "pygments_lexer": "ipython3",
   "version": "3.11.5"
  },
  "orig_nbformat": 4
 },
 "nbformat": 4,
 "nbformat_minor": 2
}
