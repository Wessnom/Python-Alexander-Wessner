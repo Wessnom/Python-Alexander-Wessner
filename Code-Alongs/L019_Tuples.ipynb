{
 "cells": [
  {
   "cell_type": "markdown",
   "metadata": {},
   "source": [
    "# Tuples\n",
    "- Tuples are used to store multiple items in a single variable. \n",
    "- Tuple items are ordered, unchangeable, and allow duplicate values.\n",
    "- Tuple allows different data types, and a mix of data types.\n",
    "- Tuple items are indexed, the first item has index [0], the second item has index [1], and so on.\n",
    "- Typles are written with round brackets. Ex. (), (1,)"
   ]
  },
  {
   "cell_type": "code",
   "execution_count": 4,
   "metadata": {},
   "outputs": [
    {
     "name": "stdout",
     "output_type": "stream",
     "text": [
      "my_tuple[0] = 'Alexander'\n",
      "my_tuple = ('Kalle', '29', 'LOTR', 'Lord of the Rings')\n"
     ]
    }
   ],
   "source": [
    "# Create empty tuplel\n",
    "empty_tuple = ()\n",
    "\n",
    "# Create tuple with one item\n",
    "single_item_tuple = (1, )\n",
    "\n",
    "# Create tuple with items\n",
    "my_tuple = (\"Alexander\", \"29\", \"LOTR\", \"Lord of the Rings\")\n",
    "\n",
    "# Tuples can be indexed (and sliced)\n",
    "print(f\"{my_tuple[0] = }\")\n",
    "\n",
    "## But individual items can not be altered ##\n",
    "# my_tuple[0] = \"Kalle\"\n",
    "# The workaround to alter items in a tuple is to convert to list and back.\n",
    "my_list = list(my_tuple)\n",
    "my_list[0] = \"Kalle\"\n",
    "my_tuple = tuple(my_list)\n",
    "\n",
    "print(f\"{my_tuple = }\")"
   ]
  },
  {
   "cell_type": "markdown",
   "metadata": {},
   "source": [
    "## Unpacking a tuple\n",
    "When we create a tuple, we normally assign values to it. This is called **\"packing\"** a tuple.\n",
    "We are also allowed to extract the values back into variable(s). This is called **\"unpacking\"**. "
   ]
  },
  {
   "cell_type": "code",
   "execution_count": 5,
   "metadata": {},
   "outputs": [
    {
     "name": "stdout",
     "output_type": "stream",
     "text": [
      "name = 'Kalle'\n",
      "age = '29'\n",
      "movie = 'LOTR'\n",
      "movietitle = 'Lord of the Rings'\n"
     ]
    }
   ],
   "source": [
    "name, age, movie, movietitle = my_tuple\n",
    "print(f\"{name = }\")\n",
    "print(f\"{age = }\")\n",
    "print(f\"{movie = }\")\n",
    "print(f\"{movietitle = }\")"
   ]
  },
  {
   "cell_type": "markdown",
   "metadata": {},
   "source": [
    "## Looping through tuple"
   ]
  },
  {
   "cell_type": "code",
   "execution_count": 6,
   "metadata": {},
   "outputs": [
    {
     "name": "stdout",
     "output_type": "stream",
     "text": [
      "Kalle\n",
      "29\n",
      "LOTR\n",
      "Lord of the Rings\n"
     ]
    }
   ],
   "source": [
    "for item in my_tuple:\n",
    "    print(item)"
   ]
  },
  {
   "cell_type": "code",
   "execution_count": 7,
   "metadata": {},
   "outputs": [
    {
     "name": "stdout",
     "output_type": "stream",
     "text": [
      "Kalle\n",
      "29\n",
      "LOTR\n",
      "Lord of the Rings\n"
     ]
    }
   ],
   "source": [
    "for i in range(len(my_tuple)):\n",
    "    print(my_tuple[i])"
   ]
  }
 ],
 "metadata": {
  "kernelspec": {
   "display_name": ".venv",
   "language": "python",
   "name": "python3"
  },
  "language_info": {
   "codemirror_mode": {
    "name": "ipython",
    "version": 3
   },
   "file_extension": ".py",
   "mimetype": "text/x-python",
   "name": "python",
   "nbconvert_exporter": "python",
   "pygments_lexer": "ipython3",
   "version": "3.11.5"
  },
  "orig_nbformat": 4
 },
 "nbformat": 4,
 "nbformat_minor": 2
}
