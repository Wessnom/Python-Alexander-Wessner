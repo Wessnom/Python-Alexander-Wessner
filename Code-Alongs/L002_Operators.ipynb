{
 "cells": [
  {
   "cell_type": "markdown",
   "metadata": {},
   "source": [
    "# Operators\n",
    "An operator in a programming language is a symbol that tells the compiler or interpreter to perform a specific mathematical, relational or logical operation and produce final result."
   ]
  },
  {
   "cell_type": "markdown",
   "metadata": {},
   "source": [
    "## Arithmetic operators\n",
    "- Addition +\n",
    "- Subtraction -\n",
    "- Multiplication *\n",
    "- Division /\n",
    "- Floor Division //\n",
    "- Modulus %\n",
    "- Exponentiation ** - (upphöjt till)"
   ]
  },
  {
   "cell_type": "code",
   "execution_count": 3,
   "metadata": {},
   "outputs": [
    {
     "name": "stdout",
     "output_type": "stream",
     "text": [
      "4.5\n",
      "1\n",
      "4\n",
      "27\n"
     ]
    }
   ],
   "source": [
    "print(9 / 2)\n",
    "print(9 % 2) # resten efter 9 delat med 2, dvs. 1\n",
    "print(9 // 2)\n",
    "\n",
    "print (3**3)"
   ]
  },
  {
   "cell_type": "markdown",
   "metadata": {},
   "source": [
    "# Comparison Operators (sv. jämförelseoperatorer)\n",
    "- Equal ==\n",
    "- Not Equal !=\n",
    "- Greater than >\n",
    "- Lesser than <\n",
    "- Greater than or equal to >=\n",
    "- Lesser than or equal to <="
   ]
  },
  {
   "cell_type": "code",
   "execution_count": 14,
   "metadata": {},
   "outputs": [
    {
     "name": "stdout",
     "output_type": "stream",
     "text": [
      "True\n",
      "True\n",
      "True\n",
      "True\n",
      "True\n",
      "True\n"
     ]
    }
   ],
   "source": [
    "x = 6\n",
    "\n",
    "print(x != 5)\n",
    "print(x <= 8)\n",
    "print(5 < 8)\n",
    "\n",
    "print(\"Fredrik\" < \"Frida\")\n",
    "\n",
    "x = 15\n",
    "\n",
    "print(x > 10 and x < 20)\n",
    "print(10 < x < 20)"
   ]
  },
  {
   "cell_type": "markdown",
   "metadata": {},
   "source": [
    "# Logical Operators\n",
    "- and (true if both are true)\n",
    "- or (true if one or both are true)\n",
    "- not (true if false, false if true)"
   ]
  },
  {
   "cell_type": "code",
   "execution_count": 9,
   "metadata": {},
   "outputs": [
    {
     "name": "stdout",
     "output_type": "stream",
     "text": [
      "True\n",
      "True\n",
      "True\n",
      "False\n",
      "True\n",
      "False\n"
     ]
    }
   ],
   "source": [
    "print(True and True)\n",
    "print(True or True)\n",
    "print(True or False)\n",
    "print(True and False)\n",
    "print(not False)\n",
    "\n",
    "print(5 == 5 and 7 == 8)"
   ]
  },
  {
   "cell_type": "markdown",
   "metadata": {},
   "source": [
    "# Operator Precedence\n",
    "\n",
    "Operator precedence describes the order in which operations are performed.\n",
    "https://www.w3schools.com/python/python_operators.asp\n"
   ]
  },
  {
   "cell_type": "markdown",
   "metadata": {},
   "source": [
    "# "
   ]
  }
 ],
 "metadata": {
  "kernelspec": {
   "display_name": "Python-Alexander-Wessner-ZFN3EVPi",
   "language": "python",
   "name": "python3"
  },
  "language_info": {
   "codemirror_mode": {
    "name": "ipython",
    "version": 3
   },
   "file_extension": ".py",
   "mimetype": "text/x-python",
   "name": "python",
   "nbconvert_exporter": "python",
   "pygments_lexer": "ipython3",
   "version": "3.11.5"
  },
  "orig_nbformat": 4
 },
 "nbformat": 4,
 "nbformat_minor": 2
}
