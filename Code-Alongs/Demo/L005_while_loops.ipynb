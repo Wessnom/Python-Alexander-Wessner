{
 "cells": [
  {
   "cell_type": "markdown",
   "metadata": {},
   "source": [
    "# Loops\n",
    "Python has two primitive loop commands:\n",
    "- while loops\n",
    "- for loops\n",
    "\n",
    "# The while loop\n",
    "Executes a set of statements as long as a condition is true."
   ]
  },
  {
   "cell_type": "code",
   "execution_count": 5,
   "metadata": {},
   "outputs": [
    {
     "name": "stdout",
     "output_type": "stream",
     "text": [
      "10: Hello World!\n",
      " 9: Hello World!\n",
      " 8: Hello World!\n",
      " 7: Hello World!\n",
      " 6: Hello World!\n",
      " 5: Hello World!\n",
      " 4: Hello World!\n",
      " 3: Hello World!\n",
      " 2: Hello World!\n",
      " 1: Hello World!\n",
      "End.\n"
     ]
    }
   ],
   "source": [
    "counter = 10\n",
    "\n",
    "while counter > 0:\n",
    "    print(f\"{counter:2d}: Hello World!\")\n",
    "    counter -= 1\n",
    "\n",
    "\n",
    "print(\"End.\")"
   ]
  }
 ],
 "metadata": {
  "kernelspec": {
   "display_name": "Python-Alexander-Wessner-ZFN3EVPi",
   "language": "python",
   "name": "python3"
  },
  "language_info": {
   "codemirror_mode": {
    "name": "ipython",
    "version": 3
   },
   "file_extension": ".py",
   "mimetype": "text/x-python",
   "name": "python",
   "nbconvert_exporter": "python",
   "pygments_lexer": "ipython3",
   "version": "3.11.5"
  },
  "orig_nbformat": 4
 },
 "nbformat": 4,
 "nbformat_minor": 2
}
