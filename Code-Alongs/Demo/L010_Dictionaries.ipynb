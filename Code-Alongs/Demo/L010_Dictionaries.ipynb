{
 "cells": [
  {
   "cell_type": "markdown",
   "metadata": {},
   "source": [
    "# Dictionaries\n",
    "- Dictionaries are used to store data in a **key-value pairs**. \n",
    "- Keys are used to access values, and must be unique.\n",
    "- Only immutable types (eg. string, int, float, bool) can be used as keys"
   ]
  },
  {
   "cell_type": "code",
   "execution_count": 16,
   "metadata": {},
   "outputs": [
    {
     "name": "stdout",
     "output_type": "stream",
     "text": [
      "Alexander\n",
      "len(teacher) = 5\n",
      "teacher['languages'][-1] = 'Javascript'\n",
      "teacher = {'firstname': 'Alexander', 'age': 29, 'languages': ['Python', 'C#', 'Javascript'], 'contactinfo': {'phone': '0723868453', 'email': ['wessneralexander@gmail.com', 'wessneralexander@hotmail.com']}, 'length': 1.8}\n",
      "removed_value = 'Wessner'\n"
     ]
    }
   ],
   "source": [
    "# Create empty dictionary\n",
    "empty_dictionary = {}\n",
    "\n",
    "# Create dictionary with items\n",
    "teacher = {\n",
    "        \"firstname\": \"Alexander\",\n",
    "        \"lastname\": \"Wessner\",\n",
    "        \"age\": 29,\n",
    "        \"languages\": [\"Python\", \"C#\", \"Javascript\"],\n",
    "        \"contactinfo\": {\n",
    "            \"phone\": \"0723868453\",\n",
    "            \"email\": [\n",
    "                \"wessneralexander@gmail.com\",\n",
    "                \"wessneralexander@hotmail.com\",\n",
    "            ]\n",
    "        \n",
    "        }\n",
    "}\n",
    "\n",
    "\n",
    "print(teacher[\"firstname\"])\n",
    "\n",
    "# Get number of items in dictionary (räknar key-value pairs)\n",
    "print(f\"{len(teacher) = }\")\n",
    "# Plocka ut sista elementet i key value languages\n",
    "print(f\"{teacher['languages'][-1] = }\")\n",
    "\n",
    "\n",
    "# Add key to dictionary\n",
    "teacher[\"length\"] = 1.80\n",
    "\n",
    "# Remov key and return value from dictonary\n",
    "removed_value = teacher.pop(\"lastname\")\n",
    "\n",
    "print(f\"{teacher = }\")\n",
    "print(f\"{removed_value = }\")"
   ]
  },
  {
   "cell_type": "markdown",
   "metadata": {},
   "source": [
    "## Get value using key"
   ]
  },
  {
   "cell_type": "code",
   "execution_count": 27,
   "metadata": {},
   "outputs": [
    {
     "name": "stdout",
     "output_type": "stream",
     "text": [
      "Alexander\n"
     ]
    }
   ],
   "source": [
    "key = input(\"Enter key: \")\n",
    "\n",
    "if key in teacher:\n",
    "    print(teacher[key])\n",
    "else:\n",
    "    print(\">_<\")\n",
    "\n"
   ]
  },
  {
   "cell_type": "code",
   "execution_count": 31,
   "metadata": {},
   "outputs": [
    {
     "name": "stdout",
     "output_type": "stream",
     "text": [
      "Alexander\n"
     ]
    }
   ],
   "source": [
    "key = input(\"Enter key: \")\n",
    "print(teacher.get(key, \">_<\"))"
   ]
  },
  {
   "cell_type": "markdown",
   "metadata": {},
   "source": [
    "## Looping through a dictionary"
   ]
  },
  {
   "cell_type": "code",
   "execution_count": 36,
   "metadata": {},
   "outputs": [
    {
     "name": "stdout",
     "output_type": "stream",
     "text": [
      "firstname\n",
      "age\n",
      "languages\n",
      "contactinfo\n",
      "length\n",
      "\n",
      "Alexander\n",
      "29\n",
      "['Python', 'C#', 'Javascript']\n",
      "{'phone': '0723868453', 'email': ['wessneralexander@gmail.com', 'wessneralexander@hotmail.com']}\n",
      "1.8\n",
      "\n",
      "firstname = Alexander\n",
      "age = 29\n",
      "languages = ['Python', 'C#', 'Javascript']\n",
      "contactinfo = {'phone': '0723868453', 'email': ['wessneralexander@gmail.com', 'wessneralexander@hotmail.com']}\n",
      "length = 1.8\n",
      "\n",
      "firstname = Alexander\n",
      "age = 29\n",
      "languages = ['Python', 'C#', 'Javascript']\n",
      "contactinfo = {'phone': '0723868453', 'email': ['wessneralexander@gmail.com', 'wessneralexander@hotmail.com']}\n",
      "length = 1.8\n"
     ]
    }
   ],
   "source": [
    "for key in teacher.keys():\n",
    "    print(key)\n",
    "\n",
    "print()\n",
    "\n",
    "for value in teacher.values():\n",
    "    print(value)\n",
    "\n",
    "print()\n",
    "\n",
    "for key in teacher:\n",
    "    print(f\"{key} = {teacher[key]}\")\n",
    "\n",
    "print()\n",
    "\n",
    "for key, value in teacher.items():\n",
    "    print(f\"{key} = {value}\")\n"
   ]
  }
 ],
 "metadata": {
  "kernelspec": {
   "display_name": "Python-Alexander-Wessner-ZFN3EVPi",
   "language": "python",
   "name": "python3"
  },
  "language_info": {
   "codemirror_mode": {
    "name": "ipython",
    "version": 3
   },
   "file_extension": ".py",
   "mimetype": "text/x-python",
   "name": "python",
   "nbconvert_exporter": "python",
   "pygments_lexer": "ipython3",
   "version": "3.11.5"
  },
  "orig_nbformat": 4
 },
 "nbformat": 4,
 "nbformat_minor": 2
}
