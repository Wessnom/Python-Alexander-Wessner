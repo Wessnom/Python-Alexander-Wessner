{
 "cells": [
  {
   "cell_type": "markdown",
   "metadata": {},
   "source": [
    "# List\n",
    "- Lists are on of 4 built-in data types in Python used to store collections of data, the other 3 are Tuple, Set and Dictionary, all with different qualities and usage.\n",
    "- Lists are used to store multiple items in a single variable.\n",
    "- Lists are created using square brackers: []\n",
    "- List items are ordered, changeable (mutable), and allow duplicate values."
   ]
  },
  {
   "cell_type": "code",
   "execution_count": 12,
   "metadata": {},
   "outputs": [
    {
     "name": "stdout",
     "output_type": "stream",
     "text": [
      "fruits = ['apple', 'banana', 'cherry', 'orange', 'apple']\n",
      "len(fruits) = 5\n",
      "fruits.count('apple') = 2\n",
      "fruits = ['apple', 'banana', 'cherry', 'orange', 'apple', 'melon', 'kiwi']\n",
      "fruits = ['apple', 'banana', 'cherry', 'orange', 'apple', 'melon', 'kiwi', 'pear', 'coconut', 'pineapple', 'pear', 'coconut', 'pineapple']\n"
     ]
    }
   ],
   "source": [
    "empty = []\n",
    "fruits = [\"apple\", \"banana\", \"cherry\", \"orange\", \"apple\"]\n",
    "more_fruits = [\"pear\", \"coconut\", \"pineapple\"]\n",
    "\n",
    "print(f\"{fruits = }\")\n",
    "print(f\"{len(fruits) = }\") # Use len() to get number of items in list\n",
    "print(f\"{fruits.count('apple') = }\") # .count() count number of occurances of a value\n",
    "\n",
    "fruits.append('melon') # Append an item to a list.\n",
    "fruits.append('kiwi')\n",
    "print(f\"{fruits = }\")\n",
    "\n",
    "fruits += more_fruits # alt. fruits.extend(more_fruits). Appends all items from a second list\n",
    "fruits.extend(more_fruits)\n",
    "print(f\"{fruits = }\")\n"
   ]
  },
  {
   "cell_type": "markdown",
   "metadata": {},
   "source": [
    "# Indexering\n",
    "- List items are indexed, the first item has index [0], second item has index [1] and so forth.\n",
    "- Make sure the index exists, or the programe will crash with a \"index out of range\"-message.\n",
    "- Negative indexing: -1 refers to last item, -2 refers to the second last item etc.\n"
   ]
  },
  {
   "cell_type": "code",
   "execution_count": 21,
   "metadata": {},
   "outputs": [
    {
     "name": "stdout",
     "output_type": "stream",
     "text": [
      "fruits[0] = 'apple'\n",
      "fruits[5] = 'melon'\n"
     ]
    }
   ],
   "source": [
    "print(f\"{fruits[0] = }\")\n",
    "print(f\"{fruits[5] = }\")"
   ]
  },
  {
   "cell_type": "markdown",
   "metadata": {},
   "source": [
    "# Looping through a list\n"
   ]
  },
  {
   "cell_type": "code",
   "execution_count": 29,
   "metadata": {},
   "outputs": [
    {
     "name": "stdout",
     "output_type": "stream",
     "text": [
      "apple, banana, cherry, orange, apple, melon, kiwi, pear, coconut, "
     ]
    }
   ],
   "source": [
    "for fruit in fruits[:-4]: # Remove last 4 objects in index\n",
    "    print(fruit, end=\", \")"
   ]
  },
  {
   "cell_type": "code",
   "execution_count": 36,
   "metadata": {},
   "outputs": [],
   "source": [
    "# counter = 0\n",
    "#for fruit in fruits:\n",
    "#    print(fruit)\n"
   ]
  },
  {
   "cell_type": "code",
   "execution_count": 37,
   "metadata": {},
   "outputs": [
    {
     "name": "stdout",
     "output_type": "stream",
     "text": [
      "0: apple\n",
      "1: banana\n",
      "2: cherry\n",
      "3: orange\n",
      "4: apple\n",
      "5: melon\n",
      "6: kiwi\n",
      "7: pear\n",
      "8: coconut\n",
      "9: pineapple\n",
      "10: pear\n",
      "11: coconut\n",
      "12: pineapple\n"
     ]
    }
   ],
   "source": [
    "for index, fruit in enumerate(fruits):\n",
    "    print(f\"{index}: {fruit}\")"
   ]
  },
  {
   "cell_type": "markdown",
   "metadata": {},
   "source": [
    "# Mini-uppgift:\n",
    "Skriv ett program som ber användaren mata in färger, en i taget, tills användares input är tom.\n",
    "Varje färg ska läggas på en lista, och när användarens inmatning är slut så skrivs listan ut, samt hur många färger det är på listan."
   ]
  },
  {
   "cell_type": "code",
   "execution_count": 17,
   "metadata": {},
   "outputs": [
    {
     "name": "stdout",
     "output_type": "stream",
     "text": [
      "Theses are the colours you submitted:\n",
      "['red', 'black', 'white', 'blue', 'red', 'yellow', 'sunwhite', 'blackblue']\n",
      "Ammount of colours: 8\n"
     ]
    }
   ],
   "source": [
    "# Create empty list\n",
    "list_of_colours = []\n",
    "# Loop until user input is blank\n",
    "while True:\n",
    "    colour = input(\"Input each colour to add to the list individually:\")\n",
    "\n",
    "    if colour == \"\":\n",
    "        break\n",
    "    list_of_colours.append(colour) # Append color to list\n",
    "    \n",
    "# Print results \n",
    "print(\"Theses are the colours you submitted:\")\n",
    "print(list_of_colours)\n",
    "print(f\"Ammount of colours: {len(list_of_colours)}\")"
   ]
  },
  {
   "cell_type": "markdown",
   "metadata": {},
   "source": [
    "# Mini-uppgift 2:\n",
    "Skapa manuellt en lista i koden med 5 frukter. Använd list comprehension för att skapa en ny lista med samma frukter, men med ett utropstecken i slutet på varje frukt(sträng)."
   ]
  },
  {
   "cell_type": "code",
   "execution_count": 43,
   "metadata": {},
   "outputs": [
    {
     "name": "stdout",
     "output_type": "stream",
     "text": [
      "new_fruits = ['kiwi!', 'banana!', 'orange!', 'pineapple!', 'strawberry!']\n"
     ]
    }
   ],
   "source": [
    "fruits = [\"kiwi\", \"banana\", \"orange\", \"pineapple\", \"strawberry\"]\n",
    "\n",
    "new_fruits = [fruit + \"!\" for fruit in fruits]\n",
    "\n",
    "print(f\"{new_fruits = }\")"
   ]
  },
  {
   "cell_type": "markdown",
   "metadata": {},
   "source": [
    "# Mini-uppgift 3:\n",
    "- a) Skapa en ny lista från listan med frukter, som tar med alla frukter där namnet är 5 bokstäver. len()\n",
    "- b) Skapa en listan med alla heltal 0 till 100. Skapa en ny lista som innehåller alla jämna tal från den första listan. Mha list comprehension! %"
   ]
  },
  {
   "cell_type": "code",
   "execution_count": 62,
   "metadata": {},
   "outputs": [
    {
     "name": "stdout",
     "output_type": "stream",
     "text": [
      "new_fruits = ['apple', 'fiver', 'melon']\n",
      "numbers = [0, 1, 2, 3, 4, 5, 6, 7, 8, 9, 10, 11, 12, 13, 14, 15, 16, 17, 18, 19, 20, 21, 22, 23, 24, 25, 26, 27, 28, 29, 30, 31, 32, 33, 34, 35, 36, 37, 38, 39, 40, 41, 42, 43, 44, 45, 46, 47, 48, 49, 50, 51, 52, 53, 54, 55, 56, 57, 58, 59, 60, 61, 62, 63, 64, 65, 66, 67, 68, 69, 70, 71, 72, 73, 74, 75, 76, 77, 78, 79, 80, 81, 82, 83, 84, 85, 86, 87, 88, 89, 90, 91, 92, 93, 94, 95, 96, 97, 98, 99, 100]\n",
      "even_numbers = [2, 4, 6, 8, 10, 12, 14, 16, 18, 20, 22, 24, 26, 28, 30, 32, 34, 36, 38, 40, 42, 44, 46, 48, 50, 52, 54, 56, 58, 60, 62, 64, 66, 68, 70, 72, 74, 76, 78, 80, 82, 84, 86, 88, 90, 92, 94, 96, 98, 100]\n"
     ]
    }
   ],
   "source": [
    "# A)\n",
    "fruits = [\"apple\", \"orange\", \"pineapple\", \"kiwi\", \"cherry\", \"fiver\", \"melon\"]\n",
    "new_fruits = [fruit for fruit in fruits if len(fruit) == 5]\n",
    "print(f\"{new_fruits = }\")\n",
    "\n",
    "# B)\n",
    "numbers = list(range(101))\n",
    "print(f\"{numbers = }\")\n",
    "\n",
    "even_numbers = [number for number in numbers if (number %2 == 0 and number != 0)]\n",
    "print(f\"{even_numbers = }\")"
   ]
  },
  {
   "cell_type": "markdown",
   "metadata": {},
   "source": [
    "\n",
    "camelCase\n",
    "PascalCase\n",
    "snake_Case\n",
    "list_of_students\n",
    "listOfStudents\n",
    "\n",
    "DRY = Don't Repeat Yourself"
   ]
  }
 ],
 "metadata": {
  "kernelspec": {
   "display_name": "Python-Alexander-Wessner-ZFN3EVPi",
   "language": "python",
   "name": "python3"
  },
  "language_info": {
   "codemirror_mode": {
    "name": "ipython",
    "version": 3
   },
   "file_extension": ".py",
   "mimetype": "text/x-python",
   "name": "python",
   "nbconvert_exporter": "python",
   "pygments_lexer": "ipython3",
   "version": "3.11.5"
  },
  "orig_nbformat": 4
 },
 "nbformat": 4,
 "nbformat_minor": 2
}
