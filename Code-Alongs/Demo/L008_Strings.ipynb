{
 "cells": [
  {
   "cell_type": "markdown",
   "metadata": {},
   "source": [
    "# Strings\n",
    "- Data type used in Python for storing text.\n",
    "- Literal values with single or double quotes. 'single', \"double\"\n",
    "- Strings are immutable (meaning not changeable)"
   ]
  },
  {
   "cell_type": "markdown",
   "metadata": {},
   "source": [
    "## Cocatenate\n",
    "- "
   ]
  },
  {
   "cell_type": "code",
   "execution_count": null,
   "metadata": {},
   "outputs": [],
   "source": [
    "# Example"
   ]
  },
  {
   "cell_type": "markdown",
   "metadata": {},
   "source": [
    "## Multiline strings\n",
    "Python allows string literals to span multiple rows if started, and ended, by \"\"\""
   ]
  },
  {
   "cell_type": "code",
   "execution_count": null,
   "metadata": {},
   "outputs": [],
   "source": [
    "# Example"
   ]
  },
  {
   "cell_type": "markdown",
   "metadata": {},
   "source": [
    "## Indexing and slicing\n"
   ]
  },
  {
   "cell_type": "code",
   "execution_count": 4,
   "metadata": {},
   "outputs": [
    {
     "name": "stdout",
     "output_type": "stream",
     "text": [
      "name = 'Alexander'\n",
      "name[0] = 'A'\n",
      "name[-1] = 'r'\n",
      "name[:3] = 'Ale'\n"
     ]
    }
   ],
   "source": [
    "name = \"Alexander\"\n",
    "print(f\"{name = }\")\n",
    "print(f\"{name[0] = }\")\n",
    "print(f\"{name[-1] = }\")\n",
    "print(f\"{name[:3] = }\")\n",
    "\n"
   ]
  },
  {
   "cell_type": "markdown",
   "metadata": {},
   "source": [
    "## Looping through a string"
   ]
  },
  {
   "cell_type": "code",
   "execution_count": 5,
   "metadata": {},
   "outputs": [
    {
     "name": "stdout",
     "output_type": "stream",
     "text": [
      "A\n",
      "l\n",
      "e\n",
      "x\n",
      "a\n",
      "n\n",
      "d\n",
      "e\n",
      "r\n"
     ]
    }
   ],
   "source": [
    "name = \"Alexander\"\n",
    "\n",
    "for char in name:\n",
    "    print(char)"
   ]
  },
  {
   "cell_type": "markdown",
   "metadata": {},
   "source": [
    "## Membership operator with string"
   ]
  },
  {
   "cell_type": "code",
   "execution_count": 8,
   "metadata": {},
   "outputs": [
    {
     "name": "stdout",
     "output_type": "stream",
     "text": [
      "'ander' in name = True\n",
      "name in 'Alexander Wessner'= True\n",
      "'rulle' not in name = True\n"
     ]
    }
   ],
   "source": [
    "name = \"Alexander\"\n",
    "\n",
    "print(f\"{'ander' in name = }\")\n",
    "print(f\"{name in 'Alexander Wessner'= }\")\n",
    "print(f\"{'rulle' not in name = }\")"
   ]
  },
  {
   "cell_type": "markdown",
   "metadata": {},
   "source": [
    "## Escape characters\n",
    "To insert characters that are illegal in a string, use an escape character.\n",
    "\n",
    "An escape character is a backslash \\ followed by the character you want to insert.\n",
    "\n",
    "An example of an illegal character is a double quote inside a string that is surrounded by double quotes:\n",
    "\n",
    "### Common escape characters\n",
    "- \\\\' \tSingle Quote \t\n",
    "- \\\\\\\\ \tBackslash \t\n",
    "- \\\\n \tNew Line \t\n",
    "- \\\\r \tCarriage Return \t\n",
    "- \\\\t \tTab \t\n",
    "- \\\\b \tBackspace \t\n",
    "- \\\\f \tForm Feed \t\n",
    "- \\\\ooo \tOctal value \t\n",
    "- \\\\xhh \tHex value"
   ]
  },
  {
   "cell_type": "code",
   "execution_count": 17,
   "metadata": {},
   "outputs": [
    {
     "name": "stdout",
     "output_type": "stream",
     "text": [
      "Hello! \n",
      "\tWorld!\n",
      "Here is another \"Example\"!\n"
     ]
    }
   ],
   "source": [
    "escaped_text = \"Hello! \\n\\tWorld!\\nHere is another \\\"Example\\\"!\"\n",
    "print(escaped_text)"
   ]
  },
  {
   "cell_type": "markdown",
   "metadata": {},
   "source": [
    "## String methods"
   ]
  },
  {
   "cell_type": "code",
   "execution_count": 41,
   "metadata": {},
   "outputs": [
    {
     "name": "stdout",
     "output_type": "stream",
     "text": [
      "name = 'Alexander'\n",
      "upper_name = 'ALEXANDER'\n",
      "\"Hello World\".upper() = 'HELLO WORLD'\n",
      "\"Hello World\".lower() = 'hello world'\n",
      "\"hello world\".title() = 'Hello World'\n",
      "\"Hello World\".capitalize() = 'Hello world'\n",
      "\n",
      "Check if string starts or ends with substring:\n",
      "\"Hello World\".startswith(\"Hello\") = True\n",
      "\"Hello World\".endswith(\"Hello\") = False\n",
      "\n",
      "Join multiple strings\n",
      "\", \".join([\"Alexander\", \" Alleballe\", \" Alle\" ]) = 'Alexander,  Alleballe,  Alle'\n",
      "\n",
      "Split string into multiple (list of) strings\n",
      "\"This is another example\".split() = ['This', 'is', 'another', 'example']\n",
      "\n",
      "Replace part of a string\n",
      "\"This is another example\".replace(\"another\", \"just an\") = 'This is just an example'\n"
     ]
    }
   ],
   "source": [
    "# String methods return a new string, but does not change the string that it's called upon.\n",
    "name = \"Alexander\"\n",
    "upper_name = name.upper()\n",
    "print(f'{name = }')\n",
    "print(f'{upper_name = }')\n",
    "\n",
    "# Upper- and Lower case\n",
    "print(f'{\"Hello World\".upper() = }')\n",
    "print(f'{\"Hello World\".lower() = }')\n",
    "print(f'{\"hello world\".title() = }')\n",
    "print(f'{\"Hello World\".capitalize() = }')\n",
    "\n",
    "print(\"\\nCheck if string starts or ends with substring:\") \n",
    "print(f'{\"Hello World\".startswith(\"Hello\") = }')\n",
    "print(f'{\"Hello World\".endswith(\"Hello\") = }')\n",
    "\n",
    "# Strip is often used when getting input from user.\n",
    "\n",
    "\n",
    "\n",
    "print(\"\\nJoin multiple strings\")\n",
    "print(f'{\", \".join([\"Alexander\", \" Alleballe\", \" Alle\" ]) = }')\n",
    "\n",
    "print(\"\\nSplit string into multiple (list of) strings\")\n",
    "print(f'{\"This is another example\".split() = }')\n",
    "\n",
    "# Replace\n",
    "\n",
    "print(\"\\nReplace part of a string\")\n",
    "print(f'{\"This is another example\".replace(\"another\", \"just an\") = }')"
   ]
  }
 ],
 "metadata": {
  "kernelspec": {
   "display_name": "Python-Alexander-Wessner-ZFN3EVPi",
   "language": "python",
   "name": "python3"
  },
  "language_info": {
   "codemirror_mode": {
    "name": "ipython",
    "version": 3
   },
   "file_extension": ".py",
   "mimetype": "text/x-python",
   "name": "python",
   "nbconvert_exporter": "python",
   "pygments_lexer": "ipython3",
   "version": "3.11.5"
  },
  "orig_nbformat": 4
 },
 "nbformat": 4,
 "nbformat_minor": 2
}
