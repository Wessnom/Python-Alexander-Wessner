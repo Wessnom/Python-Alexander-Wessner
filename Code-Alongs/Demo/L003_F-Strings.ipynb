{
 "cells": [
  {
   "cell_type": "markdown",
   "metadata": {},
   "source": [
    "# f-strings (Formatted string literals)\n",
    "-literal starts with f or F.\n",
    "- variables or expressions can be inserted using { } - måsvingar, curly brackets \n",
    "- use = after expression to print expression and result (not only result)\n",
    "\n",
    "- quotes can be used inside expression as long as they differ from the quotetype f-string\n",
    "- for padding and alignment, use **:{padding character (default space)}{alignment}{width}** ex, x<20  xxxxxxxxxxxxxxAlexander\n",
    "- Alignments: Left <, Center ^, Right >. Default alignment is left for string, right for numerics\n",
    "\n",
    "- Data type: Add data type after padding and alignment eg: x:<20.2f\n",
    "- Data type formats: Fixed-point notation(f), Exponent notation (e), Percentage(%) (Default precision is 6 (dvs 6 decimaler om ej annat angivs)).\n",
    "- Use comma for thousands separation eg: (1000:,) or (1000:,.2f)"
   ]
  },
  {
   "cell_type": "code",
   "execution_count": 16,
   "metadata": {},
   "outputs": [
    {
     "name": "stdout",
     "output_type": "stream",
     "text": [
      "Hello Alexander!\n",
      "5 + 8 = 13\n",
      "Hej 'Alexander'.\n",
      "Hej \"Alexander\".\n",
      "3.14150\n",
      "1.00e+06\n",
      "78%\n",
      "1,000,000\n",
      "1,000,000.00\n"
     ]
    }
   ],
   "source": [
    "name = \"Alexander\" # input(\"Enter your name: \")\n",
    "myString = f\"Hello {name}!\"\n",
    "print(myString)\n",
    "\n",
    "print(f\"{5 + 8 = }\")\n",
    "\n",
    "print(f\"Hej 'Alexander'.\")\n",
    "print(f'Hej \"Alexander\".') \n",
    "\n",
    "print(f\"{3.1415:.5f}\")\n",
    "print(f\"{1000000:.2e}\")\n",
    "print(f\"{0.78:.0%}\")\n",
    "\n",
    "print(f\"{1000000:,}\")\n",
    "print(f\"{1000000:,.2f}\")"
   ]
  },
  {
   "cell_type": "code",
   "execution_count": 8,
   "metadata": {},
   "outputs": [
    {
     "name": "stdout",
     "output_type": "stream",
     "text": [
      "Firstname           Lastname:20\n",
      "Alexander           Wessner             \n"
     ]
    }
   ],
   "source": [
    "first_name = \"Alexander\"\n",
    "last_name = \"Wessner\"\n",
    "\n",
    "print(f\"{'Firstname':20}{'Lastname':20}\")\n",
    "print(f\"{first_name:20}{last_name:20}\")"
   ]
  }
 ],
 "metadata": {
  "kernelspec": {
   "display_name": "Python-Alexander-Wessner-ZFN3EVPi",
   "language": "python",
   "name": "python3"
  },
  "language_info": {
   "codemirror_mode": {
    "name": "ipython",
    "version": 3
   },
   "file_extension": ".py",
   "mimetype": "text/x-python",
   "name": "python",
   "nbconvert_exporter": "python",
   "pygments_lexer": "ipython3",
   "version": "3.11.5"
  },
  "orig_nbformat": 4
 },
 "nbformat": 4,
 "nbformat_minor": 2
}
