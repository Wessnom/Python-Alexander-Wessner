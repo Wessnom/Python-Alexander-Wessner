{
 "cells": [
  {
   "cell_type": "markdown",
   "metadata": {},
   "source": [
    "# If statements\n",
    "- **if** - Essential part of if-statement\n",
    "- **elif** - Zero, One or More elif\n",
    "- **else** - Zero, One"
   ]
  },
  {
   "cell_type": "code",
   "execution_count": 1,
   "metadata": {},
   "outputs": [
    {
     "name": "stdout",
     "output_type": "stream",
     "text": [
      "Yes!\n"
     ]
    }
   ],
   "source": [
    "if True:\n",
    "    print(\"Yes!\")\n",
    "\n",
    "if False:\n",
    "    print(\"No!\")"
   ]
  },
  {
   "cell_type": "markdown",
   "metadata": {},
   "source": [
    "# One line statement\n",
    "- When the if statement is followed by only one statement"
   ]
  },
  {
   "cell_type": "code",
   "execution_count": 8,
   "metadata": {},
   "outputs": [
    {
     "name": "stdout",
     "output_type": "stream",
     "text": [
      "Yes!\n"
     ]
    }
   ],
   "source": [
    "x = 15\n",
    "name = \"Fredrik\"\n",
    "\n",
    "if x < 10 or name == \"Fredrik\": print(\"Yes!\")"
   ]
  },
  {
   "cell_type": "markdown",
   "metadata": {},
   "source": [
    "# Ternary operator\n",
    "- A special operator that takes 3 operands and returns one of those choices depending on if the middle expression evaluates to True or False.\n",
    "- (*TrueValue* if *expression* else *FalseValue*)"
   ]
  },
  {
   "cell_type": "code",
   "execution_count": 4,
   "metadata": {},
   "outputs": [
    {
     "name": "stdout",
     "output_type": "stream",
     "text": [
      "Fred ???\n",
      "Please wait 4 seconds\n"
     ]
    }
   ],
   "source": [
    "name = \"Fred\"\n",
    "lastname = (\"Johansson\" if name == \"Fredrik\" else \"???\")\n",
    "\n",
    "print(f\"{name} {lastname}\")\n",
    "\n",
    "seconds = 4\n",
    "print(f\"Please wait {seconds} second{'s' if seconds != 1 else ''}\")"
   ]
  }
 ],
 "metadata": {
  "kernelspec": {
   "display_name": "Python-Alexander-Wessner-ZFN3EVPi",
   "language": "python",
   "name": "python3"
  },
  "language_info": {
   "codemirror_mode": {
    "name": "ipython",
    "version": 3
   },
   "file_extension": ".py",
   "mimetype": "text/x-python",
   "name": "python",
   "nbconvert_exporter": "python",
   "pygments_lexer": "ipython3",
   "version": "3.11.5"
  },
  "orig_nbformat": 4
 },
 "nbformat": 4,
 "nbformat_minor": 2
}
