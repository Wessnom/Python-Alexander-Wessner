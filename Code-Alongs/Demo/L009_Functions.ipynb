{
 "cells": [
  {
   "cell_type": "markdown",
   "metadata": {},
   "source": [
    "# Abstraction levels\n",
    "- (Abstraktionsnivåer)\n",
    "- In computing, an abstraction layer or abstraction level is a way of hiding the working details of a subsystem. \n",
    "- When working on a low level of abstraction we're dealing with the fine details of the code, while , if we work on a high level of abstraction the details are hidden from us.\n",
    "- so we get more of an overview of the system."
   ]
  },
  {
   "cell_type": "markdown",
   "metadata": {},
   "source": [
    "# Functions\n",
    "- A function is a block of code which only runs when it is called.\n",
    "- In Python a function is defined using the **def** keyword\n",
    "- **Definition** must come before **call**.\n",
    "- To call a function, use the function name followed by parenthesis.\n",
    "- You can pass data, know as **arguments** into a function.\n",
    "- The number of **arguments** when calling must normally match number of **parameters** of definition.\n",
    "- A function may return data as a result."
   ]
  },
  {
   "cell_type": "code",
   "execution_count": 20,
   "metadata": {},
   "outputs": [
    {
     "name": "stdout",
     "output_type": "stream",
     "text": [
      "Hello, Alexander!\n",
      "Hello, Fredrik!\n",
      "Hello, Anders!\n",
      "Hello, Camilla!\n",
      "\n",
      "Hello, Apple!\n",
      "Hello, Orange!\n",
      "Hello, Melon!\n",
      "Hello, Kiwi!\n",
      "\n",
      "Hello, Janne!\n"
     ]
    }
   ],
   "source": [
    "def greet(name):\n",
    "    print(\"Hello, \"+ name + \"!\")\n",
    "\n",
    "def greet_people(people):\n",
    "    for person in people:\n",
    "        greet(person)\n",
    "\n",
    "users = [\"Alexander\", \"Fredrik\", \"Anders\", \"Camilla\"]\n",
    "greet_people(users)\n",
    "\n",
    "print() # Empty row\n",
    "fruits = [\"Apple\", \"Orange\", \"Melon\", \"Kiwi\"]\n",
    "greet_people(fruits)\n",
    "\n",
    "print() # Empty row\n",
    "greet(\"Janne\")\n"
   ]
  },
  {
   "cell_type": "markdown",
   "metadata": {},
   "source": [
    "## Example of function returning a value"
   ]
  },
  {
   "cell_type": "code",
   "execution_count": 1,
   "metadata": {},
   "outputs": [
    {
     "name": "stdout",
     "output_type": "stream",
     "text": [
      "Alexander\n",
      "Hello Camilla!\n",
      "Hello Janne!\n"
     ]
    }
   ],
   "source": [
    "def get_greeting(name):\n",
    "    greeting = \"Hello \" + name + \"!\"\n",
    "\n",
    "    if name == \"Alexander\":\n",
    "        return name\n",
    "    else:\n",
    "        return greeting\n",
    "    \n",
    "print(get_greeting(\"Alexander\"))\n",
    "print(get_greeting(\"Camilla\"))\n",
    "\n",
    "my_greeting = get_greeting(\"Janne\")\n",
    "print(my_greeting)"
   ]
  },
  {
   "cell_type": "markdown",
   "metadata": {},
   "source": [
    "## Default values\n",
    "If a default value is specified for a parameter, it's possible to omit that argument when calling the function."
   ]
  },
  {
   "cell_type": "code",
   "execution_count": 2,
   "metadata": {},
   "outputs": [
    {
     "name": "stdout",
     "output_type": "stream",
     "text": [
      "Hello Alexander!\n",
      "Hello Alexander!\n",
      "Hello Alexander!\n",
      "Hello Alexander!\n",
      "Hello Alexander!\n",
      "Hello Hanna!\n"
     ]
    }
   ],
   "source": [
    "def greet(name, number_of_times = 1):\n",
    "    for i in range(number_of_times):\n",
    "        print(\"Hello \" + name + \"!\")\n",
    "\n",
    "greet(\"Alexander\", 5)\n",
    "greet(\"Hanna\")"
   ]
  }
 ],
 "metadata": {
  "kernelspec": {
   "display_name": "Python-Alexander-Wessner-ZFN3EVPi",
   "language": "python",
   "name": "python3"
  },
  "language_info": {
   "codemirror_mode": {
    "name": "ipython",
    "version": 3
   },
   "file_extension": ".py",
   "mimetype": "text/x-python",
   "name": "python",
   "nbconvert_exporter": "python",
   "pygments_lexer": "ipython3",
   "version": "3.11.5"
  },
  "orig_nbformat": 4
 },
 "nbformat": 4,
 "nbformat_minor": 2
}
