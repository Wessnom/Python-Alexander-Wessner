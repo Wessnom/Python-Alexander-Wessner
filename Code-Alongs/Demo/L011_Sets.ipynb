{
 "cells": [
  {
   "cell_type": "markdown",
   "metadata": {},
   "source": [
    "# Sets\n",
    "- Set items are unordered, unchangable, and do not allow duplicate values.\n",
    "- Items ***can not*** be accessed using indexes or slicing. \n",
    "- Set items can be of any data type, and can contain different data types."
   ]
  },
  {
   "cell_type": "code",
   "execution_count": 7,
   "metadata": {},
   "outputs": [
    {
     "name": "stdout",
     "output_type": "stream",
     "text": [
      "len(a) = 8\n",
      "a = {1, 3, 4, 5, 9, 11, 12}\n"
     ]
    }
   ],
   "source": [
    "# Create empty set\n",
    "empty_set = set()\n",
    "# Create set with values\n",
    "a = {1, 3, 5 ,3, 4, 10}\n",
    "\n",
    "#Add value to set\n",
    "a.add(12)\n",
    "\n",
    "a.update({9, 10, 11})\n",
    "\n",
    "# Get number of items in set\n",
    "print(f\"{len(a) = }\")\n",
    "\n",
    "# Remove element from set if it exists\n",
    "a.discard(10)\n",
    "\n",
    "# Print set\n",
    "print(f\"{a = }\")"
   ]
  },
  {
   "cell_type": "markdown",
   "metadata": {},
   "source": [
    "## Combining sets\n",
    "Sets can be combined inseveral ways:\n",
    "- **Union:** Return a set that contains all the items from both set, pduplicates are excluded.\n",
    "- **Intersection:** Return a set that contains the **items that exists in both** set ***a***, and set ***b***\n",
    "- **Difference:** Return a set that contains the items *that only exists in set* ***a***, and not in set ***b***\n",
    "- **Symetric difference:** Return a set that contains all items from both sets, except items that are present in both sets."
   ]
  },
  {
   "cell_type": "code",
   "execution_count": 15,
   "metadata": {},
   "outputs": [
    {
     "name": "stdout",
     "output_type": "stream",
     "text": [
      "a = {1, 3, 4, 5, 9, 11, 12}\n",
      "b ={2, 4, 5, 6, 10, 11, 15}\n",
      "\n",
      "a.union(b) ={1, 2, 3, 4, 5, 6, 9, 10, 11, 12, 15}\n",
      "a.intersection(b) ={11, 4, 5}\n",
      "a.difference(b) ={1, 3, 12, 9}\n",
      "b.difference(a) ={2, 10, 6, 15}\n",
      "a.symmetric_difference(b) ={1, 2, 3, 6, 9, 10, 12, 15}\n",
      "1\n",
      "3\n",
      "4\n",
      "5\n",
      "9\n",
      "11\n",
      "12\n"
     ]
    }
   ],
   "source": [
    "b = {2, 4, 5, 6, 10, 11, 15}\n",
    "\n",
    "print(f\"{a = }\\n{b =}\\n\")\n",
    "\n",
    "print(f\"{a.union(b) =}\")\n",
    "print(f\"{a.intersection(b) =}\")\n",
    "print(f\"{a.difference(b) =}\")\n",
    "print(f\"{b.difference(a) =}\")\n",
    "print(f\"{a.symmetric_difference(b) =}\")\n",
    "\n",
    "print()\n",
    "for value in a:\n",
    "    print(value)"
   ]
  },
  {
   "cell_type": "code",
   "execution_count": 9,
   "metadata": {},
   "outputs": [
    {
     "name": "stdout",
     "output_type": "stream",
     "text": [
      "{'melon', 'kiwi', 'apple'}\n",
      "['melon', 'kiwi', 'apple']\n"
     ]
    }
   ],
   "source": [
    "# Smidigt sätt att få ut en lista utan dubletter.. gör till set\n",
    "fruits = [\"apple\", \"kiwi\", \"apple\", \"melon\", \"kiwi\"]\n",
    "\n",
    "print(set(fruits))"
   ]
  }
 ],
 "metadata": {
  "kernelspec": {
   "display_name": "Python-Alexander-Wessner-ZFN3EVPi",
   "language": "python",
   "name": "python3"
  },
  "language_info": {
   "codemirror_mode": {
    "name": "ipython",
    "version": 3
   },
   "file_extension": ".py",
   "mimetype": "text/x-python",
   "name": "python",
   "nbconvert_exporter": "python",
   "pygments_lexer": "ipython3",
   "version": "3.11.5"
  },
  "orig_nbformat": 4
 },
 "nbformat": 4,
 "nbformat_minor": 2
}
