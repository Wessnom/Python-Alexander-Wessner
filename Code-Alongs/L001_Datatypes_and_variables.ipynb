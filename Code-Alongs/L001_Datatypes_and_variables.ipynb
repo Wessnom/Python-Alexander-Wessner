{
 "cells": [
  {
   "cell_type": "markdown",
   "metadata": {},
   "source": [
    "# Data Types\n",
    "- **String** (text)\n",
    "- **Int** (integer, sv. heltal)\n",
    "- **Float** (floating point, sv. flyttal (decimaltal))\n",
    "- **Bool** (boolean, True/False logik)\n"
   ]
  },
  {
   "cell_type": "code",
   "execution_count": 9,
   "metadata": {},
   "outputs": [
    {
     "name": "stdout",
     "output_type": "stream",
     "text": [
      "Alexander\n",
      "8\n",
      "3.14\n",
      "True\n"
     ]
    },
    {
     "data": {
      "text/plain": [
       "int"
      ]
     },
     "execution_count": 9,
     "metadata": {},
     "output_type": "execute_result"
    }
   ],
   "source": [
    "myString = \"Alexander\"\n",
    "print(myString)    # String, str\n",
    "\n",
    "myInt = 8        # Integer, int\n",
    "print(myInt)\n",
    "\n",
    "myFloat = 3.14   # Float, float\n",
    "print(myFloat)\n",
    "\n",
    "myBool = True    # Bool, bool\n",
    "print(myBool)\n",
    "\n",
    "type(myString)"
   ]
  },
  {
   "cell_type": "markdown",
   "metadata": {},
   "source": [
    "# Literal Values\n",
    "\n",
    "- \"Hello\" - **String**. Can use single or double quotes (\"\"/''). **Strings are Case-sensitive**\n",
    "- 5 - **Integer**\n",
    "- 4.5 **Float**\n",
    "- True - **Bool**. Can be True or False\n"
   ]
  },
  {
   "cell_type": "markdown",
   "metadata": {},
   "source": [
    "# Variables\n",
    "- Case-sensitive\n",
    "- Created when first assigned, doesn't need to be declared\n",
    "- Dynamic typing, type is referred from assignment, can be re-typed.\n",
    "- Cast type with: str(), int(), float(), bool()\n",
    "- Get type with: type()\n",
    "- Use del() to delete variables (or other defined objects)"
   ]
  },
  {
   "cell_type": "code",
   "execution_count": 19,
   "metadata": {},
   "outputs": [
    {
     "name": "stdout",
     "output_type": "stream",
     "text": [
      "58\n",
      "<class 'str'>\n",
      "<class 'int'>\n",
      "True\n",
      "False\n"
     ]
    }
   ],
   "source": [
    "myNumber = \"56\"\n",
    "myNumber2 = int(myNumber)\n",
    "print(myNumber2 + 2)\n",
    "\n",
    "print(type(myNumber))\n",
    "print(type(myNumber2))\n",
    "\n",
    "# Casting string to bool --> false for empty string \"\". True for not empty string \"asfljasf\"\n",
    "print(bool(\"rappakalja\"))\n",
    "\n",
    "# Casting numeric to bool --> false for zero, true for not zero.\n",
    "print(bool(0))\n"
   ]
  },
  {
   "cell_type": "code",
   "execution_count": 17,
   "metadata": {},
   "outputs": [
    {
     "name": "stdout",
     "output_type": "stream",
     "text": [
      "Alesandro\n"
     ]
    }
   ],
   "source": [
    "name = input(\"Enter your name:\")\n",
    "print(name)\n"
   ]
  }
 ],
 "metadata": {
  "kernelspec": {
   "display_name": "Python-Alexander-Wessner-ZFN3EVPi",
   "language": "python",
   "name": "python3"
  },
  "language_info": {
   "codemirror_mode": {
    "name": "ipython",
    "version": 3
   },
   "file_extension": ".py",
   "mimetype": "text/x-python",
   "name": "python",
   "nbconvert_exporter": "python",
   "pygments_lexer": "ipython3",
   "version": "3.11.5"
  },
  "orig_nbformat": 4
 },
 "nbformat": 4,
 "nbformat_minor": 2
}
