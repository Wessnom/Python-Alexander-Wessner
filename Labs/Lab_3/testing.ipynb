{
 "cells": [
  {
   "cell_type": "code",
   "execution_count": 30,
   "metadata": {},
   "outputs": [],
   "source": [
    "from Geometric_shape import Circle\n",
    "from Geometric_shape import Rectangle"
   ]
  },
  {
   "cell_type": "code",
   "execution_count": 31,
   "metadata": {},
   "outputs": [],
   "source": [
    "cirkel1 = Circle(x=0, y=0, radius=1)\n",
    "cirkel2 = Circle(x=1, y=1, radius=1)\n",
    "rektangel = Rectangle(x=0, y=0, side1=1, side2=1)"
   ]
  },
  {
   "cell_type": "code",
   "execution_count": 32,
   "metadata": {},
   "outputs": [
    {
     "name": "stdout",
     "output_type": "stream",
     "text": [
      "True\n",
      "False\n",
      "True\n"
     ]
    },
    {
     "ename": "TypeError",
     "evalue": "'float' object is not callable",
     "output_type": "error",
     "traceback": [
      "\u001b[1;31m---------------------------------------------------------------------------\u001b[0m",
      "\u001b[1;31mTypeError\u001b[0m                                 Traceback (most recent call last)",
      "\u001b[1;32mc:\\Users\\Alexander\\Documents\\GitHub\\Python-Alexander-Wessner\\Labs\\Lab_3\\testing.ipynb Cell 3\u001b[0m line \u001b[0;36m4\n\u001b[0;32m      <a href='vscode-notebook-cell:/c%3A/Users/Alexander/Documents/GitHub/Python-Alexander-Wessner/Labs/Lab_3/testing.ipynb#W2sZmlsZQ%3D%3D?line=1'>2</a>\u001b[0m \u001b[39mprint\u001b[39m(cirkel2 \u001b[39m==\u001b[39m rektangel)\n\u001b[0;32m      <a href='vscode-notebook-cell:/c%3A/Users/Alexander/Documents/GitHub/Python-Alexander-Wessner/Labs/Lab_3/testing.ipynb#W2sZmlsZQ%3D%3D?line=2'>3</a>\u001b[0m \u001b[39mprint\u001b[39m(cirkel1\u001b[39m.\u001b[39mis_inside(\u001b[39m0.5\u001b[39m, \u001b[39m0.5\u001b[39m))\n\u001b[1;32m----> <a href='vscode-notebook-cell:/c%3A/Users/Alexander/Documents/GitHub/Python-Alexander-Wessner/Labs/Lab_3/testing.ipynb#W2sZmlsZQ%3D%3D?line=3'>4</a>\u001b[0m cirkel1\u001b[39m.\u001b[39;49mtranspose(\u001b[39m1.1\u001b[39;49m, \u001b[39m2.2\u001b[39;49m)\n",
      "File \u001b[1;32mc:\\Users\\Alexander\\Documents\\GitHub\\Python-Alexander-Wessner\\Labs\\Lab_3\\Geometric_shape.py:49\u001b[0m, in \u001b[0;36mGeometric_shape.transpose\u001b[1;34m(self, dx, dy)\u001b[0m\n\u001b[0;32m     48\u001b[0m \u001b[39mdef\u001b[39;00m \u001b[39mtranspose\u001b[39m(\u001b[39mself\u001b[39m, dx, dy): \u001b[39m# Inkludera felhantering check!\u001b[39;00m\n\u001b[1;32m---> 49\u001b[0m     \u001b[39mif\u001b[39;00m \u001b[39mnot\u001b[39;00m \u001b[39misinstance\u001b[39m(dx, (\u001b[39mint\u001b[39m, \u001b[39mfloat\u001b[39m)) \u001b[39mor\u001b[39;00m \u001b[39mnot\u001b[39;00m \u001b[39misinstance\u001b[39m(dy(\u001b[39mint\u001b[39;49m, \u001b[39mfloat\u001b[39;49m)):\n\u001b[0;32m     50\u001b[0m         \u001b[39mraise\u001b[39;00m \u001b[39mValueError\u001b[39;00m(\u001b[39m\"\u001b[39m\u001b[39mValues must be numbers.\u001b[39m\u001b[39m\"\u001b[39m)\n\u001b[0;32m     51\u001b[0m     \u001b[39mself\u001b[39m\u001b[39m.\u001b[39mx \u001b[39m+\u001b[39m\u001b[39m=\u001b[39m dx\n",
      "\u001b[1;31mTypeError\u001b[0m: 'float' object is not callable"
     ]
    }
   ],
   "source": [
    "print(cirkel1 == cirkel2)\n",
    "print(cirkel2 == rektangel)\n",
    "print(cirkel1.is_inside(0.5, 0.5))\n",
    "cirkel1.transpose(1.1, 2.2)"
   ]
  }
 ],
 "metadata": {
  "kernelspec": {
   "display_name": ".venv",
   "language": "python",
   "name": "python3"
  },
  "language_info": {
   "codemirror_mode": {
    "name": "ipython",
    "version": 3
   },
   "file_extension": ".py",
   "mimetype": "text/x-python",
   "name": "python",
   "nbconvert_exporter": "python",
   "pygments_lexer": "ipython3",
   "version": "3.11.5"
  }
 },
 "nbformat": 4,
 "nbformat_minor": 2
}
