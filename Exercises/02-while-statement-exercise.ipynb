{
 "cells": [
  {
   "cell_type": "markdown",
   "metadata": {},
   "source": [
    "## 1. Count numbers (*)\n",
    "\n",
    "Use a **while** statement to count from -10 to 10 with one increment."
   ]
  },
  {
   "cell_type": "code",
   "execution_count": 2,
   "metadata": {},
   "outputs": [
    {
     "name": "stdout",
     "output_type": "stream",
     "text": [
      "-10\n",
      "-9\n",
      "-8\n",
      "-7\n",
      "-6\n",
      "-5\n",
      "-4\n",
      "-3\n",
      "-2\n",
      "-1\n",
      "0\n",
      "1\n",
      "2\n",
      "3\n",
      "4\n",
      "5\n",
      "6\n",
      "7\n",
      "8\n",
      "9\n",
      "10\n",
      "End.\n"
     ]
    }
   ],
   "source": [
    "counter = -10\n",
    "\n",
    "while counter < 11:\n",
    "    print(counter)\n",
    "    counter += 1\n",
    "print (\"End.\") "
   ]
  },
  {
   "cell_type": "markdown",
   "metadata": {},
   "source": [
    "## 2. Arithmetic sum (*)\n",
    "\n",
    "Use a **while** statement to compute the following sums:\n",
    "\n",
    "&nbsp; a) &nbsp; $\\text{sum} = 1 + 2 + \\ldots + 99+ 100$\n",
    "\n",
    "&nbsp; b) &nbsp; $\\text{sum} = 1 + 3 + 5 + \\ldots + 97 + 99$"
   ]
  },
  {
   "cell_type": "code",
   "execution_count": 6,
   "metadata": {},
   "outputs": [
    {
     "name": "stdout",
     "output_type": "stream",
     "text": [
      "The sum of numbers from 1 to 99 with step 2 is 2500.\n"
     ]
    }
   ],
   "source": [
    "start = int(input(\"Enter the start value: \"))\n",
    "end = int(input(\"Enter the end value: \"))\n",
    "step = int(input(\"Enter the step value: \"))\n",
    "total_sum = 0\n",
    "i = start\n",
    "\n",
    "while i <= end:\n",
    "    total_sum += i\n",
    "    i += step\n",
    "\n",
    "print(f\"The sum of numbers from {start} to {end} with step {step} is {total_sum}.\")"
   ]
  },
  {
   "attachments": {
    "image.png": {
     "image/png": "[encoded data removed]"
    }
   },
   "cell_type": "markdown",
   "metadata": {},
   "source": [
    "## 3. Guess number game (*)\n",
    "&nbsp; a) &nbsp; Create a guessing number game following this flow chart: \n",
    "\n",
    "![image.png](attachment:image.png)"
   ]
  },
  {
   "cell_type": "markdown",
   "metadata": {},
   "source": [
    "&nbsp; b) &nbsp; Make an algorithm to automatically guess the correct number. Can you optimize to get as few guesses as possible? (**)"
   ]
  },
  {
   "cell_type": "code",
   "execution_count": 23,
   "metadata": {},
   "outputs": [
    {
     "name": "stdout",
     "output_type": "stream",
     "text": [
      "96\n",
      "Too low, try again!\n",
      "Too low, try again!\n",
      "Too high, try again!\n",
      "Congratulations, you guessed the right number; 96 in 4 tries!\n"
     ]
    }
   ],
   "source": [
    "# Guessing number game\n",
    "import random\n",
    "\n",
    "secret_number = random.randint(1, 100)\n",
    "guesses = 0\n",
    "# for testing\n",
    "# print(secret_number)\n",
    "\n",
    "while True:\n",
    "    user_guess = int(input(\"Guess the correct number between 1-100: \"))\n",
    "    guesses += 1\n",
    "    \n",
    "    if user_guess == secret_number:\n",
    "        print(f\"Congratulations, you guessed the right number; {secret_number} in {guesses} tries!\")\n",
    "        break\n",
    "    elif user_guess < secret_number:\n",
    "         print(\"Too low, try again!\")\n",
    "    else:\n",
    "         print(\"Too high, try again!\")"
   ]
  },
  {
   "attachments": {
    "image.png": {
     "image/png": "[encoded data removed]"
    }
   },
   "cell_type": "markdown",
   "metadata": {},
   "source": [
    "## 4. Multiplication game (*)\n",
    "\n",
    "&nbsp; a) &nbsp; Create a multiplication game following this flow chart: \n",
    "\n",
    "![image.png](attachment:image.png)"
   ]
  },
  {
   "cell_type": "markdown",
   "metadata": {},
   "source": [
    "&nbsp; b) &nbsp; Add a menu for choosing difficulty level of the game\n",
    "\n",
    "&nbsp; c) &nbsp; Feel free to extend this program with features of your choice."
   ]
  },
  {
   "cell_type": "code",
   "execution_count": 41,
   "metadata": {},
   "outputs": [
    {
     "name": "stdout",
     "output_type": "stream",
     "text": [
      "Welcome to the multiplication game!\n",
      "Type 'quit' at any time to exit the game.\n",
      "Correct!\n",
      "Your current score is 1.\n",
      "Correct!\n",
      "Your current score is 2.\n",
      "Correct!\n",
      "Your current score is 3.\n",
      "Correct!\n",
      "Your current score is 4.\n",
      "Correct!\n",
      "Your current score is 5.\n",
      "Correct!\n",
      "Your current score is 6.\n",
      "Correct!\n",
      "Your current score is 7.\n",
      "Correct!\n",
      "Your current score is 8.\n",
      "Correct!\n",
      "Your current score is 9.\n",
      "Correct!\n",
      "Your current score is 10.\n",
      "Correct!\n",
      "Your current score is 11.\n",
      "Wrong! The correct answer is 28.\n",
      "Do you want to play again? (yes/no)\n",
      "Your final score is 11. Thanks for playing!\n"
     ]
    }
   ],
   "source": [
    "import random\n",
    "\n",
    "def play_game():\n",
    "    score = 0\n",
    "    while True:\n",
    "        x = random.randint(1, 10)\n",
    "        y = random.randint(1, 10)\n",
    "        \n",
    "        user_answer = input(f\"What is {x} times {y}? \")\n",
    "\n",
    "        if user_answer.lower() == 'quit':\n",
    "            print(f\"Your final score is {score}. Thanks for playing!\")\n",
    "            break\n",
    "\n",
    "        try:\n",
    "            user_answer = int(user_answer)\n",
    "        except ValueError:\n",
    "            print(\"Please enter a valid number or type 'quit' to exit.\")\n",
    "            continue\n",
    "\n",
    "        if user_answer == x * y:\n",
    "            print(\"Correct!\")\n",
    "            score += 1\n",
    "            print(f\"Your current score is {score}.\")\n",
    "        else:\n",
    "            print(f\"Wrong! The correct answer is {x * y}.\")\n",
    "            print(f\"Do you want to play again? (yes/no)\")\n",
    "\n",
    "            play_again = input().lower()\n",
    "            if play_again == 'no':\n",
    "                print(f\"Your final score is {score}. Thanks for playing!\")\n",
    "                break\n",
    "\n",
    "\n",
    "print(\"Welcome to the multiplication game!\")\n",
    "print(\"Type 'quit' at any time to exit the game.\")\n",
    "play_game()     \n"
   ]
  },
  {
   "cell_type": "markdown",
   "metadata": {},
   "source": [
    "## 5. Check convergance (**)\n",
    "Use a while statement to compute the following sums: \n",
    "\n",
    "&nbsp; a) &nbsp; $\\text{sum} = 1 + \\frac{1}{2} + \\frac{1}{4} + \\frac{1}{8} + \\dots + \\frac{1}{2^n}$\n",
    "\n",
    "&nbsp; b) &nbsp; $\\text{sum} = 1 - \\frac{1}{3} + \\frac{1}{5} - \\frac{1}{7} + \\dots + \\frac{(-1)^n}{2n+1}$\n",
    "\n",
    "Try different values on $n$ to see which value it converges to.\n"
   ]
  },
  {
   "cell_type": "code",
   "execution_count": 4,
   "metadata": {},
   "outputs": [
    {
     "name": "stdout",
     "output_type": "stream",
     "text": [
      "The sum converges to: 1.9999999990686774\n"
     ]
    }
   ],
   "source": [
    "# A)\n",
    "\n",
    "n = 0\n",
    "current_term = 1\n",
    "total_sum = 0\n",
    "tolerance = 1e-9\n",
    "\n",
    "while current_term > tolerance:\n",
    "    current_term = 1 / (2 ** n)\n",
    "    total_sum += current_term\n",
    "    n += 1\n",
    "\n",
    "print(f\"The sum converges to: {total_sum}\")"
   ]
  },
  {
   "cell_type": "code",
   "execution_count": 17,
   "metadata": {},
   "outputs": [
    {
     "name": "stdout",
     "output_type": "stream",
     "text": [
      "After 100000 iterations, the sum is approximately: 0.7853956633974299, which is 3.1415826535897198 when multiplied by 4.\n"
     ]
    }
   ],
   "source": [
    "# B)\n",
    "\n",
    "n = 0\n",
    "current_term = 1\n",
    "total_sum = 0\n",
    "\n",
    "# Limiting to 100,000 iterations for demonstration\n",
    "max_iterations = 100000\n",
    "\n",
    "while n < max_iterations:\n",
    "    current_term = ((-1) ** n) / (2 * n + 1)\n",
    "    total_sum += current_term\n",
    "    n += 1\n",
    "\n",
    "print(f\"After {max_iterations} iterations, the sum is approximately: {total_sum}, which is {total_sum * 4} when multiplied by 4.\")\n"
   ]
  }
 ],
 "metadata": {
  "kernelspec": {
   "display_name": "Python-Alexander-Wessner-ZFN3EVPi",
   "language": "python",
   "name": "python3"
  },
  "language_info": {
   "codemirror_mode": {
    "name": "ipython",
    "version": 3
   },
   "file_extension": ".py",
   "mimetype": "text/x-python",
   "name": "python",
   "nbconvert_exporter": "python",
   "pygments_lexer": "ipython3",
   "version": "3.11.5"
  },
  "orig_nbformat": 4
 },
 "nbformat": 4,
 "nbformat_minor": 2
}
