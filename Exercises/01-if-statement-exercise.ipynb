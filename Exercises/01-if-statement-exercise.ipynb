{
 "cells": [
  {
   "cell_type": "markdown",
   "metadata": {},
   "source": [
    "# if statements exercises\n",
    "\n",
    "---\n",
    "These are introductory exercises in Python with focus on **if** statements.\n",
    "\n",
    "---\n",
    "## Check sign (*)\n",
    "Ask the user to input a number and check if this number is **positive**, **negative** or **zero** and print it out."
   ]
  },
  {
   "cell_type": "code",
   "execution_count": 6,
   "metadata": {},
   "outputs": [
    {
     "name": "stdout",
     "output_type": "stream",
     "text": [
      "Check if a number is positive, negative or zero.\n",
      "Your number, 5.0 is positive.\n"
     ]
    }
   ],
   "source": [
    "print(\"Check if a number is positive, negative or zero.\")\n",
    "inputchecker = float(input(\"Input the number you would like to check.\"))\n",
    "\n",
    "if inputchecker > 0:\n",
    "    print(f\"Your number, {inputchecker} is positive.\")\n",
    "elif inputchecker < 0:\n",
    "    print(f\"Your number, {inputchecker} is negative.\")\n",
    "else:\n",
    "    print(\"Your number is zero.\")"
   ]
  },
  {
   "cell_type": "markdown",
   "metadata": {},
   "source": [
    "## 2. Smallest (*)\n",
    "Ask the user to input two numbers and check which one is the smallest and print it out."
   ]
  },
  {
   "cell_type": "code",
   "execution_count": 7,
   "metadata": {},
   "outputs": [
    {
     "name": "stdout",
     "output_type": "stream",
     "text": [
      "Number checker, two numbers.. one is the smallest.. which one?\n",
      "The smallest number is: 13.0\n"
     ]
    }
   ],
   "source": [
    "print(\"Number checker, two numbers.. one is the smallest.. which one?\")\n",
    "\n",
    "num1 = float(input(\"Enter the first number: \"))\n",
    "num2 = float(input(\"Enter the second number:\"))\n",
    "\n",
    "if num1 < num2:\n",
    "    smallest = num1\n",
    "else:\n",
    "    smallest = num2\n",
    "\n",
    "print(f\"The smallest number is: {smallest}\")"
   ]
  },
  {
   "cell_type": "markdown",
   "metadata": {},
   "source": [
    "## 3. Right angle (*)\n",
    "Ask the user to input three angles and check if the triangle has a right angle. The code should make sure that all three angles are valid and make up a triangle."
   ]
  },
  {
   "cell_type": "code",
   "execution_count": 11,
   "metadata": {},
   "outputs": [
    {
     "name": "stdout",
     "output_type": "stream",
     "text": [
      "The triangle does not have a right angle.\n"
     ]
    }
   ],
   "source": [
    "\n",
    "angle1 = float(input(\"Enter the first angle of the triangle in degrees:\"))\n",
    "angle2 = float(input(\"Enter the second angle of the triangle in degrees:\"))\n",
    "angle3 = float(input(\"Enter the third angle of the triangle in degrees:\"))\n",
    "\n",
    "if angle1 + angle2 + angle3 == 180 and angle1 > 0 and angle2 > 0 and angle3 > 0:\n",
    "    if angle1 == 90 or angle2 == 90 or angle3 == 90:\n",
    "        print(\"The triangle has a right angle.\")\n",
    "    else:\n",
    "        print(\"The triangle does not have a right angle.\")\n",
    "else:\n",
    "    print(\"The angles produced does not make up a valid triangle.\")"
   ]
  },
  {
   "cell_type": "markdown",
   "metadata": {},
   "source": [
    "## 4. Medicine (*)\n",
    "Let the user input an **age** and a **weight**, the program should recommend the number of pills for the user."
   ]
  },
  {
   "cell_type": "code",
   "execution_count": 17,
   "metadata": {},
   "outputs": [
    {
     "name": "stdout",
     "output_type": "stream",
     "text": [
      "No recommendation available for the given age and weight.\n"
     ]
    }
   ],
   "source": [
    "# childrens weight is more important than age.\n",
    "\n",
    "age = int(input(\"Please enter age of the person who's to intake medicine.\"))\n",
    "weight = float(input(\"Please enter the weight of the person who's to intake the medicine.\"))\n",
    "\n",
    "recommended_pills = None\n",
    "\n",
    "if weight > 40:\n",
    "    if age >= 12:\n",
    "        recommended_pills = \"1-2\"\n",
    "    else:\n",
    "        recommended_pills\n",
    "elif 26 <= weight <= 40:\n",
    "    if 7 <= age <= 12:\n",
    "        recommended_pills = \"1/2 - 1\"\n",
    "    else:\n",
    "        recommended_pills\n",
    "elif 15 <= weight <= 25:\n",
    "    if 3 <= age <= 7:\n",
    "        recommended_pills = \"1/2\"\n",
    "    else: \n",
    "        recommended_pills\n",
    "else:\n",
    "    recommended_pills\n",
    "\n",
    "if recommended_pills is not None:\n",
    "    print(f\"Recommended dosage of pills: {recommended_pills}\")\n",
    "else:\n",
    "    print(\"No recommendation available for the given age and weight.\")"
   ]
  },
  {
   "cell_type": "markdown",
   "metadata": {},
   "source": [
    "## 5. Divisible (*)\n",
    "Let the user input a number. Check if the number is:\n",
    "1. even or odd\n",
    "2. is divisible by 5\n",
    "3. is divisible by 5 and odd"
   ]
  },
  {
   "cell_type": "code",
   "execution_count": 8,
   "metadata": {},
   "outputs": [
    {
     "name": "stdout",
     "output_type": "stream",
     "text": [
      "Input a number and I will tell you something useful about it.\n",
      "305 is odd.\n",
      "305 is divisible by 5.\n",
      "305 is odd and divisible by 5.\n"
     ]
    }
   ],
   "source": [
    "print(\"Input a number and I will tell you something useful about it.\")\n",
    "\n",
    "user_number = int(input(\"Input the desired number to check.\"))\n",
    "\n",
    "if user_number % 2 == 0:\n",
    "    print(f\"{user_number} is even.\")\n",
    "else:\n",
    "    print(f\"{user_number} is odd.\")\n",
    "\n",
    "if user_number % 5 == 0:\n",
    "    print(f\"{user_number} is divisible by 5.\")\n",
    "else:\n",
    "    print(f\"{user_number} is not divisible by 5.\")\n",
    "\n",
    "if user_number % 5 == 0 and user_number % 2 != 00:\n",
    "    print(f\"{user_number} is odd and divisible by 5.\")\n",
    "     "
   ]
  },
  {
   "cell_type": "markdown",
   "metadata": {},
   "source": [
    "## 6. Luggage size (*)\n",
    "The maximum allowed luggage size for boarding an airplane is:\n",
    "\n",
    "---\n",
    "- weight: 8kg\n",
    "- dimensions: 55x40x23cm (length x width x height)\n",
    "---\n",
    "Let the user input weight, width and height of the luggage. The program should check if the luggage is allowed or not."
   ]
  },
  {
   "cell_type": "code",
   "execution_count": 11,
   "metadata": {},
   "outputs": [
    {
     "name": "stdout",
     "output_type": "stream",
     "text": [
      "Give me requested inputs and I will check if the specified luggage is acceptable on flight.\n",
      "Your luggage is allowed.\n"
     ]
    }
   ],
   "source": [
    "print(\"Give me requested inputs and I will check if the specified luggage is acceptable on flight.\")\n",
    "\n",
    "weight = float(input(\"Input the weight of your luggage:\"))\n",
    "length = int(input(\"Input the length of your luggage:\"))\n",
    "width = int(input(\"Input the width of your luggage:\"))\n",
    "height = int(input(\"Input the height of your luggage:\"))\n",
    "\n",
    "if weight <= 8 and length <= 55 and width <= 40 and height <= 23:\n",
    "    print(\"Your luggage is allowed.\")\n",
    "else:\n",
    "    print(\"Your luggage is not allowed.\")\n",
    "\n",
    "if weight > 8:\n",
    "    print(\"Your luggage exceeds the allowed weight.\")\n",
    "if length > 55:\n",
    "    print(\"Your luggade exceeds the allowed length.\")\n",
    "if width > 40:\n",
    "    print(\"Your luggage exceeds the allowed width.\")\n",
    "if height > 23:\n",
    "    print(\"Your luggage exceeds the allowed height.\")"
   ]
  }
 ],
 "metadata": {
  "kernelspec": {
   "display_name": "Python-Alexander-Wessner-ZFN3EVPi",
   "language": "python",
   "name": "python3"
  },
  "language_info": {
   "codemirror_mode": {
    "name": "ipython",
    "version": 3
   },
   "file_extension": ".py",
   "mimetype": "text/x-python",
   "name": "python",
   "nbconvert_exporter": "python",
   "pygments_lexer": "ipython3",
   "version": "3.11.5"
  },
  "orig_nbformat": 4
 },
 "nbformat": 4,
 "nbformat_minor": 2
}
