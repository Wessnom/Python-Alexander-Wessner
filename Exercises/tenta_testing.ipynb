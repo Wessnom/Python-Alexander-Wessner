{
 "cells": [
  {
   "cell_type": "code",
   "execution_count": 1,
   "metadata": {},
   "outputs": [
    {
     "name": "stdout",
     "output_type": "stream",
     "text": [
      "Hello\n",
      "Hello\n",
      "Hello\n",
      "8\n"
     ]
    }
   ],
   "source": [
    "def greet(n):\n",
    "    for i in range(n):\n",
    "        print(\"Hello\")\n",
    "\n",
    "a = 5\n",
    "b = 3\n",
    "c = a + b\n",
    "my_list = [4, 5, 8, 8]\n",
    "my_list.append('hello')\n",
    "\n",
    "greet(b)\n",
    "print(c)"
   ]
  },
  {
   "cell_type": "code",
   "execution_count": 2,
   "metadata": {},
   "outputs": [
    {
     "data": {
      "text/plain": [
       "113.09733552923255"
      ]
     },
     "execution_count": 2,
     "metadata": {},
     "output_type": "execute_result"
    }
   ],
   "source": [
    "from math import pi\n",
    "\n",
    "    \n",
    "def cylinder_volume(radius, height): \n",
    "    volume = pi*(radius**2)*height\n",
    "    return volume\n",
    "\n",
    "radius = float(input(\"Gimme radius in digits\"))\n",
    "height = float(input(\"Gimme height in digits\"))\n",
    "\n",
    "cylinder_volume(radius, height)\n"
   ]
  },
  {
   "cell_type": "code",
   "execution_count": 3,
   "metadata": {},
   "outputs": [
    {
     "name": "stdout",
     "output_type": "stream",
     "text": [
      "x o x o \n"
     ]
    }
   ],
   "source": [
    "x = 5\n",
    "y = \"x \"\n",
    "z = \"x o \"\n",
    "y = y*5\n",
    "print(z*int(5/2))\n"
   ]
  },
  {
   "cell_type": "code",
   "execution_count": 4,
   "metadata": {},
   "outputs": [
    {
     "name": "stdout",
     "output_type": "stream",
     "text": [
      "x x x x x \n",
      "x o x o x \n",
      "x x x x x \n",
      "x o x o x \n",
      "x x x x x \n"
     ]
    }
   ],
   "source": [
    "def skriv_ut_monster(n):\n",
    "    for i in range(n):\n",
    "        for j in range(n):\n",
    "            if i % 2 == 0:  # Om radnumret är jämnt, skriv ut 'x' för varje position\n",
    "                print('x', end=' ')\n",
    "            else:  # Annars, om radnumret är udda\n",
    "                if j % 2 == 0:  # Skriv ut 'x' för jämn position\n",
    "                    print('x', end=' ')\n",
    "                else:  # och 'o' för udda position\n",
    "                    print('o', end=' ')\n",
    "        print()  # Ny rad\n",
    "\n",
    "# Testa funktionen med n = 5\n",
    "skriv_ut_monster(5)\n"
   ]
  },
  {
   "cell_type": "code",
   "execution_count": 5,
   "metadata": {},
   "outputs": [
    {
     "name": "stdout",
     "output_type": "stream",
     "text": [
      "x x x x x \n",
      "x o x o x\n",
      "x x x x x \n",
      "x o x o x\n",
      "x x x x x \n"
     ]
    }
   ],
   "source": [
    "def skriv_ut_monster(n):\n",
    "    for i in range(n):\n",
    "        if i % 2 == 0:\n",
    "            print('x ' * n)\n",
    "        else:\n",
    "            print('x o ' * (n // 2) + 'x' * (n % 2))\n",
    "\n",
    "# Testa funktionen med n = 5\n",
    "skriv_ut_monster(5)\n"
   ]
  }
 ],
 "metadata": {
  "kernelspec": {
   "display_name": "Python-Alexander-Wessner-ZFN3EVPi",
   "language": "python",
   "name": "python3"
  },
  "language_info": {
   "codemirror_mode": {
    "name": "ipython",
    "version": 3
   },
   "file_extension": ".py",
   "mimetype": "text/x-python",
   "name": "python",
   "nbconvert_exporter": "python",
   "pygments_lexer": "ipython3",
   "version": "3.11.5"
  }
 },
 "nbformat": 4,
 "nbformat_minor": 2
}
