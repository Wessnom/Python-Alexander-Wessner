{
 "cells": [
  {
   "cell_type": "code",
   "execution_count": 1,
   "metadata": {},
   "outputs": [
    {
     "name": "stdout",
     "output_type": "stream",
     "text": [
      "Hello\n",
      "Hello\n",
      "Hello\n",
      "8\n"
     ]
    }
   ],
   "source": [
    "def greet(n):\n",
    "    for i in range(n):\n",
    "        print(\"Hello\")\n",
    "\n",
    "a = 5\n",
    "b = 3\n",
    "c = a + b\n",
    "my_list = [4, 5, 8, 8]\n",
    "my_list.append('hello')\n",
    "\n",
    "greet(b)\n",
    "print(c)"
   ]
  },
  {
   "cell_type": "code",
   "execution_count": 29,
   "metadata": {},
   "outputs": [
    {
     "data": {
      "text/plain": [
       "31.41592653589793"
      ]
     },
     "execution_count": 29,
     "metadata": {},
     "output_type": "execute_result"
    }
   ],
   "source": [
    "from math import pi\n",
    "\n",
    "    \n",
    "def cylinder_volume(): \n",
    "    try:\n",
    "        radius = float(input(\"Gimme radius of cylinder:\"))\n",
    "        height = float(input(\"Gimme height of cylinder:\"))\n",
    "        return pi*(radius**2)*height\n",
    "    except ValueError:\n",
    "        print(\"ValueError: Input values in numbers\")\n",
    "\n",
    "cylinder_volume()\n"
   ]
  },
  {
   "cell_type": "code",
   "execution_count": 3,
   "metadata": {},
   "outputs": [
    {
     "name": "stdout",
     "output_type": "stream",
     "text": [
      "x o x o \n"
     ]
    }
   ],
   "source": [
    "x = 5\n",
    "y = \"x \"\n",
    "z = \"x o \"\n",
    "y = y*5\n",
    "print(z*int(5/2))\n"
   ]
  },
  {
   "cell_type": "code",
   "execution_count": 4,
   "metadata": {},
   "outputs": [
    {
     "name": "stdout",
     "output_type": "stream",
     "text": [
      "x x x x x \n",
      "x o x o x \n",
      "x x x x x \n",
      "x o x o x \n",
      "x x x x x \n"
     ]
    }
   ],
   "source": [
    "def skriv_ut_monster(n):\n",
    "    for i in range(n):\n",
    "        for j in range(n):\n",
    "            if i % 2 == 0:  # Om radnumret är jämnt, skriv ut 'x' för varje position\n",
    "                print('x', end=' ')\n",
    "            else:  # Annars, om radnumret är udda\n",
    "                if j % 2 == 0:  # Skriv ut 'x' för jämn position\n",
    "                    print('x', end=' ')\n",
    "                else:  # och 'o' för udda position\n",
    "                    print('o', end=' ')\n",
    "        print()  # Ny rad\n",
    "\n",
    "# Testa funktionen med n = 5\n",
    "skriv_ut_monster(5)\n"
   ]
  },
  {
   "cell_type": "code",
   "execution_count": 5,
   "metadata": {},
   "outputs": [
    {
     "name": "stdout",
     "output_type": "stream",
     "text": [
      "x x x x x \n",
      "x o x o x\n",
      "x x x x x \n",
      "x o x o x\n",
      "x x x x x \n"
     ]
    }
   ],
   "source": [
    "def skriv_ut_monster(n):\n",
    "    for i in range(n):\n",
    "        if i % 2 == 0:\n",
    "            print('x ' * n)\n",
    "        else:\n",
    "            print('x o ' * (n // 2) + 'x' * (n % 2))\n",
    "\n",
    "# Testa funktionen med n = 5\n",
    "skriv_ut_monster(5)\n"
   ]
  },
  {
   "cell_type": "markdown",
   "metadata": {},
   "source": [
    "Implementera PetOwner klassen så att du får liknande utskrift som nedan med det manuella testet.\n",
    "\n",
    "Ada owns:\n",
    "[Dog: Snoopy, Dog: Pluto]\n",
    "[Fish: Fishy, Fish: Buppy]\n",
    "Beda owns:\n",
    "[Dog: Barkly]"
   ]
  },
  {
   "cell_type": "code",
   "execution_count": 4,
   "metadata": {},
   "outputs": [
    {
     "name": "stdout",
     "output_type": "stream",
     "text": [
      "Ada owns:\n",
      "[Dog: Snoopy, Dog: Pluto]\n",
      "[Fish: Fishy, Fish: Buppy]\n",
      "Beda owns:\n",
      "[Dog: Barkly]\n"
     ]
    }
   ],
   "source": [
    "class Animal:\n",
    "    def __init__(self, name):\n",
    "        self.name = name\n",
    "\n",
    "    def __str__(self):\n",
    "        return f\"Animal {self.name}\"\n",
    "\n",
    "class Dog(Animal):\n",
    "    # notera att __init__ är nedärvd\n",
    "    def __repr__(self):\n",
    "        return f\"Dog: {self.name}\"\n",
    "\n",
    "class Fish(Animal):\n",
    "    def __repr__(self):\n",
    "        return f\"Fish: {self.name}\"\n",
    "\n",
    "class PetOwner:\n",
    "    def __init__(self, name, dogs=[], fishes=[]):\n",
    "        self.name = name\n",
    "        self.dogs = [Dog(dog_name) for dog_name in dogs]\n",
    "        self.fishes = [Fish(fish_name) for fish_name in fishes]\n",
    "\n",
    "    def __str__(self):\n",
    "        owned_pets = []\n",
    "        \n",
    "        if self.dogs:\n",
    "            owned_pets.append(str(self.dogs))\n",
    "        if self.fishes:\n",
    "            owned_pets.append(str(self.fishes))\n",
    "        \n",
    "        pets_string = \"\\n\".join(owned_pets)\n",
    "        return f\"{self.name} owns:\\n{pets_string}\"\n",
    "\n",
    "# manuell test av PetOwner\n",
    "owner1 = PetOwner(\"Ada\",[\"Snoopy\", \"Pluto\"], [\"Fishy\", \"Buppy\"])\n",
    "owner2 = PetOwner(\"Beda\", [\"Barkly\"])\n",
    "print(owner1)\n",
    "print(owner2)\n"
   ]
  },
  {
   "cell_type": "code",
   "execution_count": 4,
   "metadata": {},
   "outputs": [
    {
     "name": "stdout",
     "output_type": "stream",
     "text": [
      "Tusenlapp: 3\n",
      "Tvåhundralapp: 1\n",
      "Tiokrona: 1\n",
      "Tvåkrona: 2\n"
     ]
    }
   ],
   "source": [
    "def pengar_representation(summa):\n",
    "    # Definiera sedlar och mynt med deras värden\n",
    "    valutor = [\n",
    "        (\"Tusenlapp\", 1000),\n",
    "        (\"Femhundralapp\", 500),\n",
    "        (\"Tvåhundralapp\", 200),\n",
    "        (\"Hundralapp\", 100),\n",
    "        (\"Femtiolapp\", 50),\n",
    "        (\"Tjugolapp\", 20),\n",
    "        (\"Tiokrona\", 10),\n",
    "        (\"Femkrona\", 5),\n",
    "        (\"Tvåkrona\", 2),\n",
    "        (\"Enkrona\", 1)\n",
    "    ]\n",
    "\n",
    "    for krona_typ, numerisk_typ in valutor:\n",
    "        antal = summa // numerisk_typ  # Räkna antalet sedlar/mynt av en viss typ\n",
    "        if antal:  # Om antalet är större än 0, skriv ut det\n",
    "            print(f\"{krona_typ}: {antal}\")\n",
    "        summa %= numerisk_typ  # Uppdatera summan genom att ta bort värdet av sedlar/mynt\n",
    "\n",
    "# Testa funktionen med summan 3214\n",
    "pengar_representation(3214)\n"
   ]
  },
  {
   "cell_type": "markdown",
   "metadata": {},
   "source": []
  },
  {
   "cell_type": "code",
   "execution_count": 22,
   "metadata": {},
   "outputs": [
    {
     "name": "stdout",
     "output_type": "stream",
     "text": [
      "X X X X X \n",
      "X O X O X \n",
      "X X X X X \n",
      "X O X O X \n",
      "X X X X X \n"
     ]
    }
   ],
   "source": [
    "def this_pattern(n):\n",
    "    for y in range(n):\n",
    "        for x in range(n):\n",
    "            if y % 2 == 0:\n",
    "                print('X', end=' ')\n",
    "            else:\n",
    "                if x % 2 == 0:\n",
    "                    print('X', end=' ')\n",
    "                else:\n",
    "                    print('O', end=' ')\n",
    "        print()\n",
    "    \n",
    "    \n",
    "    \n",
    "    \n",
    "    \n",
    "this_pattern(5)"
   ]
  },
  {
   "cell_type": "markdown",
   "metadata": {},
   "source": [
    "## Uppgift 5 (4p)\n",
    "Skapa en funktion som tar in en summa pengar i euro. \n",
    "\n",
    "Den ska printa ut en representation av sedlar och mynt som representerar summan mellan 1 och 100 euro.\n",
    "\n",
    "Valörer:\n",
    "``` text\n",
    "50 € sedel\n",
    "20 € sedel\n",
    "10 € sedel\n",
    "5 € sedel\n",
    "2 € mynt\n",
    "1 € mynt\n",
    "```\n",
    "Exempel 87 ska ge:\n",
    " ``` text\n",
    "50 € sedel: 1\n",
    "20 € sedel: 1\n",
    "10 € sedel: 1\n",
    "5 € sedel: 1\n",
    "2 € mynt: 1\n",
    "\n",
    "```"
   ]
  },
  {
   "cell_type": "code",
   "execution_count": 6,
   "metadata": {},
   "outputs": [
    {
     "name": "stdout",
     "output_type": "stream",
     "text": [
      "femtio euro: 1\n",
      "tjugo euro: 1\n",
      "tio euro: 1\n",
      "fem euro: 1\n",
      "två-euro krona: 1\n"
     ]
    }
   ],
   "source": [
    "def euro_print(summa):\n",
    "    euro_bills = [\n",
    "        (\"femtio euro\", 50),\n",
    "        (\"tjugo euro\", 20),\n",
    "        (\"tio euro\", 10),\n",
    "        (\"fem euro\", 5),\n",
    "        (\"två-euro krona\", 2),\n",
    "        (\"en-euro krona\", 1)\n",
    "    ]\n",
    "    \n",
    "    for euro_text, euro_nummer in euro_bills:\n",
    "        antal = summa // euro_nummer\n",
    "        if antal:\n",
    "            print(f\"{euro_text}: {antal}\")\n",
    "        summa %= euro_nummer\n",
    "    \n",
    "euro_print(87)"
   ]
  }
 ],
 "metadata": {
  "kernelspec": {
   "display_name": "Python-Alexander-Wessner-ZFN3EVPi",
   "language": "python",
   "name": "python3"
  },
  "language_info": {
   "codemirror_mode": {
    "name": "ipython",
    "version": 3
   },
   "file_extension": ".py",
   "mimetype": "text/x-python",
   "name": "python",
   "nbconvert_exporter": "python",
   "pygments_lexer": "ipython3",
   "version": "3.11.5"
  }
 },
 "nbformat": 4,
 "nbformat_minor": 2
}
