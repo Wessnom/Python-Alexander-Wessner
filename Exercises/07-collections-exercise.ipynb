{
 "cells": [
  {
   "cell_type": "markdown",
   "metadata": {},
   "source": [
    "# Collections exercises\n",
    "---\n",
    "These are introductory exercises in Python with focus on **Collections** (list, dictionary, set).\n",
    "- **List** is a collection of items which are ordered and changeable. Allows duplicate members.\n",
    "- **Dictionary** is a collection of key-value-pairs which are ordered and changeable. No duplicate keys.\n",
    "- **Set** is a collection of items which is unordered, unchangeable, and unindexed. No duplicate members."
   ]
  },
  {
   "cell_type": "markdown",
   "metadata": {},
   "source": [
    "---\n",
    "## 1. Print inputed values in reverse (*)\n",
    "Create a loop that keeps asking the user for input until the user inputs an empty string, then print all inputs in reverse order."
   ]
  },
  {
   "cell_type": "code",
   "execution_count": 6,
   "metadata": {},
   "outputs": [
    {
     "name": "stdout",
     "output_type": "stream",
     "text": [
      "user_list = ['1', '2', '3', '4', '5', '6', 'sju', '8', 'nio', 'tio', '11']\n",
      "'Reverse List:', user_list = ('Reverse List:', ['11', 'tio', 'nio', '8', 'sju', '6', '5', '4', '3', '2', '1'])\n"
     ]
    }
   ],
   "source": [
    "# 1.\n",
    "\n",
    "user_list = []\n",
    "\n",
    "while True:\n",
    "    user_input = input(\"Add element to list: \")\n",
    "    \n",
    "    if not user_input:\n",
    "        break\n",
    "    user_list.append(user_input)\n",
    "\n",
    "print(f\"{user_list = }\")    \n",
    "user_list.reverse()\n",
    "\n",
    "print(f\"{'Reverse List:', user_list = }\")"
   ]
  },
  {
   "cell_type": "markdown",
   "metadata": {},
   "source": [
    "## 2. Print a given number using words. (*)\n",
    "Create a dictionary with 10 key-value pairs: {\"0\": \"Zero\", \"1\": \"One\", ..., \"9\": \"Nine\"}\n",
    "\n",
    "Make the program ask the user to input a number, then print the word for each number in sequence;\n",
    "\n",
    " Example:\n",
    "\n",
    "```\n",
    "Input: 34507\n",
    "Output: Three-Four-Five-Zero-Seven"
   ]
  },
  {
   "cell_type": "code",
   "execution_count": 12,
   "metadata": {},
   "outputs": [
    {
     "name": "stdout",
     "output_type": "stream",
     "text": [
      "Input: 9999\n",
      "Output: Nine-Nine-Nine-Nine\n"
     ]
    }
   ],
   "source": [
    "# Dictionary mapping digits as strings to their word equivalent\n",
    "digit_to_word = {\n",
    "    \"0\": \"Zero\",\n",
    "    \"1\": \"One\",\n",
    "    \"2\": \"Two\",\n",
    "    \"3\": \"Three\",\n",
    "    \"4\": \"Four\",\n",
    "    \"5\": \"Five\",\n",
    "    \"6\": \"Six\",\n",
    "    \"7\": \"Seven\",\n",
    "    \"8\": \"Eight\",\n",
    "    \"9\": \"Nine\"\n",
    "}\n",
    "\n",
    "# Get user input \n",
    "user_input = input(\"Input: \")\n",
    "\n",
    "# Empty list to store the words corresponding to the digits entered\n",
    "words = []\n",
    "\n",
    "# Loop through each character in the user input\n",
    "for char in user_input:\n",
    "    words.append(digit_to_word.get(char, \"Unknown\")) # Look up the word for this digit and append it to the list\n",
    "\n",
    "# Join the list of words into a single string separated by dashes    \n",
    "output = \"-\".join(words)\n",
    "\n",
    "# Print user input followed by output in words\n",
    "print(\"Input:\", user_input)\n",
    "print(\"Output:\", output)\n"
   ]
  },
  {
   "cell_type": "markdown",
   "metadata": {},
   "source": [
    "## Glossary training program (*)\n",
    "Create a glossary training program, where the user can test their skills on translating the names of english colors to swedish:\n",
    "- The program should ask the user to write a color in swedish (eg. \"Type the Swedish word for 'red':)\n",
    "- Then let the user know if it was correct (and if not, show them the correct translation)\n",
    "- Keep asking to translate random colors until the user inputs a blank answer (\"\")\n",
    "- Lastly let the user know how many of their translations where correct, how many they guessed in total, and the ratio of correct answer (eg. \"You got 3 out of 5 correct answers. That is 60%\")"
   ]
  },
  {
   "cell_type": "code",
   "execution_count": null,
   "metadata": {},
   "outputs": [],
   "source": []
  }
 ],
 "metadata": {
  "kernelspec": {
   "display_name": "Python-Alexander-Wessner-ZFN3EVPi",
   "language": "python",
   "name": "python3"
  },
  "language_info": {
   "codemirror_mode": {
    "name": "ipython",
    "version": 3
   },
   "file_extension": ".py",
   "mimetype": "text/x-python",
   "name": "python",
   "nbconvert_exporter": "python",
   "pygments_lexer": "ipython3",
   "version": "3.11.5"
  },
  "orig_nbformat": 4
 },
 "nbformat": 4,
 "nbformat_minor": 2
}
